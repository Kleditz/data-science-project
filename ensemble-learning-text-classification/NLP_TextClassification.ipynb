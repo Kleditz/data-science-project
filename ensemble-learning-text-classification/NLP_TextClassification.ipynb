{
  "nbformat": 4,
  "nbformat_minor": 0,
  "metadata": {
    "colab": {
      "provenance": [],
      "collapsed_sections": []
    },
    "kernelspec": {
      "name": "python3",
      "display_name": "Python 3"
    },
    "language_info": {
      "name": "python"
    }
  },
  "cells": [
    {
      "cell_type": "markdown",
      "source": [
        "https://www.kaggle.com/datasets/dipankarsrirag/topic-modelling-on-emails"
      ],
      "metadata": {
        "id": "7gPLnDnepkYP"
      }
    },
    {
      "cell_type": "code",
      "execution_count": 1,
      "metadata": {
        "id": "qpVCXMCIpfgq"
      },
      "outputs": [],
      "source": [
        "#-------------------------------------Boiler Plate Imports---------------------------------------------------------#\n",
        "import numpy as np \n",
        "import pandas as pd\n",
        "import matplotlib.pyplot as plt\n",
        "import seaborn as sns\n",
        "import os\n",
        "#---------------------------------------Text Processing------------------------------------------------------------#\n",
        "import regex\n",
        "from wordcloud import WordCloud\n",
        "from sklearn.feature_extraction.text import TfidfVectorizer\n",
        "from nltk.corpus import stopwords \n",
        "from nltk.tokenize import WordPunctTokenizer\n",
        "from string import punctuation\n",
        "from nltk.stem import WordNetLemmatizer\n",
        "#------------------------------------Metrics and Validation---------------------------------------------------------#\n",
        "from sklearn.model_selection import train_test_split, RandomizedSearchCV\n",
        "from sklearn.metrics import classification_report, confusion_matrix, accuracy_score, cohen_kappa_score\n",
        "#-------------------------------------Models to be trained----------------------------------------------------------#\n",
        "from sklearn.ensemble import StackingClassifier, VotingClassifier\n",
        "from sklearn.linear_model import LogisticRegression, SGDClassifier\n",
        "from sklearn.naive_bayes import MultinomialNB\n",
        "from sklearn.tree import DecisionTreeClassifier\n",
        "from sklearn.neighbors import KNeighborsClassifier\n",
        "from sklearn.cluster import KMeans\n",
        "import xgboost\n",
        "#########################################################################"
      ]
    },
    {
      "cell_type": "code",
      "source": [
        "from google.colab import drive\n",
        "drive.mount('/content/drive')"
      ],
      "metadata": {
        "colab": {
          "base_uri": "https://localhost:8080/"
        },
        "id": "if-SgSsRVAWs",
        "outputId": "1159daa1-119a-4d06-ea86-4a4213e50e1a"
      },
      "execution_count": 3,
      "outputs": [
        {
          "output_type": "stream",
          "name": "stdout",
          "text": [
            "Mounted at /content/drive\n"
          ]
        }
      ]
    },
    {
      "cell_type": "markdown",
      "source": [
        "# Input dan Read Dataset"
      ],
      "metadata": {
        "id": "lePpf5w_qIsU"
      }
    },
    {
      "cell_type": "code",
      "source": [
        "names = []\n",
        "base = '/content/drive/MyDrive/TextClassification-Ensemble/Data/'\n",
        "with os.scandir(base) as entries:\n",
        "    for entry in entries:\n",
        "        if(entry.is_file() == False):\n",
        "            names.append(entry.name)\n",
        "names.sort()"
      ],
      "metadata": {
        "id": "K2pHw1Zqp9cu"
      },
      "execution_count": 7,
      "outputs": []
    },
    {
      "cell_type": "code",
      "source": [
        "files = {}\n",
        "unique = []\n",
        "for name in names:\n",
        "    path = base + name+'/'\n",
        "    x = []\n",
        "    with os.scandir(path) as entries:\n",
        "        for entry in entries:\n",
        "            if(entry.is_file()):\n",
        "                x.append(entry.name)\n",
        "    files[name] = x\n",
        "    files[name].sort()"
      ],
      "metadata": {
        "id": "vjP17125qGy_"
      },
      "execution_count": 8,
      "outputs": []
    },
    {
      "cell_type": "code",
      "source": [
        "for i in range(len(names)):\n",
        "    x = files[names[i]]\n",
        "    for j in x:\n",
        "        for k in range(i+1, len(names)):\n",
        "            key = names[k]\n",
        "            if j in files[key]:\n",
        "                files[key].remove(j)"
      ],
      "metadata": {
        "id": "DOdTACKTqIS9"
      },
      "execution_count": 9,
      "outputs": []
    },
    {
      "cell_type": "code",
      "source": [
        "data = {}\n",
        "i = 0\n",
        "\n",
        "for genre in files.keys() :\n",
        "    texts = files[genre]\n",
        "    for text in texts:\n",
        "        if text in files[genre]:\n",
        "            path = base + genre + '/' + text\n",
        "            with open(path, \"r\", encoding = \"latin1\") as file:\n",
        "                data[i] = file.readlines()\n",
        "                i = i+1\n",
        "            data[i-1] = [\" \".join(data[i-1]), genre] \n",
        "\n",
        "data = pd.DataFrame(data).T\n",
        "print(data.shape)\n",
        "data.columns = ['Text', 'Class']"
      ],
      "metadata": {
        "colab": {
          "base_uri": "https://localhost:8080/"
        },
        "id": "DdSDh5UwqN17",
        "outputId": "b4813841-9368-4c08-e90d-45a38bbd026e"
      },
      "execution_count": 10,
      "outputs": [
        {
          "output_type": "stream",
          "name": "stdout",
          "text": [
            "(6734, 2)\n"
          ]
        }
      ]
    },
    {
      "cell_type": "code",
      "source": [
        "unique = list(data.Text.unique())\n",
        "len(unique)"
      ],
      "metadata": {
        "colab": {
          "base_uri": "https://localhost:8080/"
        },
        "id": "XuQHLrC2qQ0p",
        "outputId": "32a54707-dba1-473b-9fe9-3c9c88a2b85e"
      },
      "execution_count": 11,
      "outputs": [
        {
          "output_type": "execute_result",
          "data": {
            "text/plain": [
              "6581"
            ]
          },
          "metadata": {},
          "execution_count": 11
        }
      ]
    },
    {
      "cell_type": "code",
      "source": [
        "dic = dict(data)"
      ],
      "metadata": {
        "id": "jMf0DytLqSoj"
      },
      "execution_count": 12,
      "outputs": []
    },
    {
      "cell_type": "code",
      "source": [
        "uni = {}\n",
        "i = 0\n",
        "for k in range(len(list(dic['Text']))):\n",
        "    if dic['Text'][k] in unique:\n",
        "        uni[i] = [dic['Text'][k], dic['Class'][k]]\n",
        "        unique.remove(dic['Text'][k])\n",
        "        i += 1"
      ],
      "metadata": {
        "id": "UKSXYSIeqT_L"
      },
      "execution_count": 13,
      "outputs": []
    },
    {
      "cell_type": "code",
      "source": [
        "data = pd.DataFrame(uni).T\n",
        "print(data.shape)\n",
        "data.columns = ['Text', 'Class']"
      ],
      "metadata": {
        "colab": {
          "base_uri": "https://localhost:8080/"
        },
        "id": "tlZ9mV67qVmY",
        "outputId": "2a5063b3-94a4-4068-c98c-06db00fe1dbd"
      },
      "execution_count": 14,
      "outputs": [
        {
          "output_type": "stream",
          "name": "stdout",
          "text": [
            "(6581, 2)\n"
          ]
        }
      ]
    },
    {
      "cell_type": "markdown",
      "source": [
        "# Function untuk Preproses Data"
      ],
      "metadata": {
        "id": "2LII1afBqXsh"
      }
    },
    {
      "cell_type": "code",
      "source": [
        "import nltk\n",
        "nltk.download('stopwords')"
      ],
      "metadata": {
        "colab": {
          "base_uri": "https://localhost:8080/"
        },
        "id": "JaEtTOBul9iW",
        "outputId": "e89bccc6-7cbc-4351-d939-8661fc860802"
      },
      "execution_count": 16,
      "outputs": [
        {
          "output_type": "stream",
          "name": "stderr",
          "text": [
            "[nltk_data] Downloading package stopwords to /root/nltk_data...\n",
            "[nltk_data]   Unzipping corpora/stopwords.zip.\n"
          ]
        },
        {
          "output_type": "execute_result",
          "data": {
            "text/plain": [
              "True"
            ]
          },
          "metadata": {},
          "execution_count": 16
        }
      ]
    },
    {
      "cell_type": "code",
      "source": [
        "wordnet_lemmatizer = WordNetLemmatizer()\n",
        "\n",
        "stop = stopwords.words('english')\n",
        "\n",
        "for punct in punctuation:\n",
        "    stop.append(punct)\n",
        "\n",
        "def filter_text(text, stop_words):\n",
        "    word_tokens = WordPunctTokenizer().tokenize(text.lower())\n",
        "    filtered_text = [regex.sub(u'\\p{^Latin}', u'', w) for w in word_tokens if w.isalpha() and len(w) > 3]\n",
        "    filtered_text = [wordnet_lemmatizer.lemmatize(w, pos=\"v\") for w in filtered_text if not w in stop_words] \n",
        "    return \" \".join(filtered_text)"
      ],
      "metadata": {
        "id": "bo3t4_6FqZ3y"
      },
      "execution_count": 17,
      "outputs": []
    },
    {
      "cell_type": "code",
      "source": [
        "nltk.download('wordnet')\n",
        "nltk.download('omw-1.4')"
      ],
      "metadata": {
        "colab": {
          "base_uri": "https://localhost:8080/"
        },
        "id": "jV5R6ui5mFJa",
        "outputId": "5f974591-2f83-489b-c42c-1825bb182b98"
      },
      "execution_count": 23,
      "outputs": [
        {
          "output_type": "stream",
          "name": "stderr",
          "text": [
            "[nltk_data] Downloading package wordnet to /root/nltk_data...\n",
            "[nltk_data]   Package wordnet is already up-to-date!\n",
            "[nltk_data] Downloading package omw-1.4 to /root/nltk_data...\n"
          ]
        },
        {
          "output_type": "execute_result",
          "data": {
            "text/plain": [
              "True"
            ]
          },
          "metadata": {},
          "execution_count": 23
        }
      ]
    },
    {
      "cell_type": "code",
      "source": [
        "data[\"filtered_text\"] = data.Text.apply(lambda x : filter_text(x, stop)) \n",
        "data.head()"
      ],
      "metadata": {
        "colab": {
          "base_uri": "https://localhost:8080/",
          "height": 206
        },
        "id": "K0AIEFsqqbtn",
        "outputId": "6cf85f4f-66c3-44d0-c230-b32e35fd4dd3"
      },
      "execution_count": 24,
      "outputs": [
        {
          "output_type": "execute_result",
          "data": {
            "text/plain": [
              "                                                Text  Class  \\\n",
              "0  \\n Archive-name: ripem/faq\\n Last-update: Sun,...  Crime   \n",
              "1  Approved: news-answers-request@MIT.EDU\\n Conte...  Crime   \n",
              "2  Approved: news-answers-request@MIT.EDU\\n Conte...  Crime   \n",
              "3  Message-ID: <1ppvai$l79@bilbo.suite.com>\\n Rep...  Crime   \n",
              "4  \\n    Some sick part of me really liked that p...  Crime   \n",
              "\n",
              "                                       filtered_text  \n",
              "0  archive name ripem last update post still rath...  \n",
              "1  approve news answer request content type text ...  \n",
              "2  approve news answer request content type text ...  \n",
              "3  message bilbo suite reply miller suite nntp po...  \n",
              "4  sick part really like phrase actually merely t...  "
            ],
            "text/html": [
              "\n",
              "  <div id=\"df-3d72c4ee-be33-4fa5-8a37-cb12ec6ddd62\">\n",
              "    <div class=\"colab-df-container\">\n",
              "      <div>\n",
              "<style scoped>\n",
              "    .dataframe tbody tr th:only-of-type {\n",
              "        vertical-align: middle;\n",
              "    }\n",
              "\n",
              "    .dataframe tbody tr th {\n",
              "        vertical-align: top;\n",
              "    }\n",
              "\n",
              "    .dataframe thead th {\n",
              "        text-align: right;\n",
              "    }\n",
              "</style>\n",
              "<table border=\"1\" class=\"dataframe\">\n",
              "  <thead>\n",
              "    <tr style=\"text-align: right;\">\n",
              "      <th></th>\n",
              "      <th>Text</th>\n",
              "      <th>Class</th>\n",
              "      <th>filtered_text</th>\n",
              "    </tr>\n",
              "  </thead>\n",
              "  <tbody>\n",
              "    <tr>\n",
              "      <th>0</th>\n",
              "      <td>\\n Archive-name: ripem/faq\\n Last-update: Sun,...</td>\n",
              "      <td>Crime</td>\n",
              "      <td>archive name ripem last update post still rath...</td>\n",
              "    </tr>\n",
              "    <tr>\n",
              "      <th>1</th>\n",
              "      <td>Approved: news-answers-request@MIT.EDU\\n Conte...</td>\n",
              "      <td>Crime</td>\n",
              "      <td>approve news answer request content type text ...</td>\n",
              "    </tr>\n",
              "    <tr>\n",
              "      <th>2</th>\n",
              "      <td>Approved: news-answers-request@MIT.EDU\\n Conte...</td>\n",
              "      <td>Crime</td>\n",
              "      <td>approve news answer request content type text ...</td>\n",
              "    </tr>\n",
              "    <tr>\n",
              "      <th>3</th>\n",
              "      <td>Message-ID: &lt;1ppvai$l79@bilbo.suite.com&gt;\\n Rep...</td>\n",
              "      <td>Crime</td>\n",
              "      <td>message bilbo suite reply miller suite nntp po...</td>\n",
              "    </tr>\n",
              "    <tr>\n",
              "      <th>4</th>\n",
              "      <td>\\n    Some sick part of me really liked that p...</td>\n",
              "      <td>Crime</td>\n",
              "      <td>sick part really like phrase actually merely t...</td>\n",
              "    </tr>\n",
              "  </tbody>\n",
              "</table>\n",
              "</div>\n",
              "      <button class=\"colab-df-convert\" onclick=\"convertToInteractive('df-3d72c4ee-be33-4fa5-8a37-cb12ec6ddd62')\"\n",
              "              title=\"Convert this dataframe to an interactive table.\"\n",
              "              style=\"display:none;\">\n",
              "        \n",
              "  <svg xmlns=\"http://www.w3.org/2000/svg\" height=\"24px\"viewBox=\"0 0 24 24\"\n",
              "       width=\"24px\">\n",
              "    <path d=\"M0 0h24v24H0V0z\" fill=\"none\"/>\n",
              "    <path d=\"M18.56 5.44l.94 2.06.94-2.06 2.06-.94-2.06-.94-.94-2.06-.94 2.06-2.06.94zm-11 1L8.5 8.5l.94-2.06 2.06-.94-2.06-.94L8.5 2.5l-.94 2.06-2.06.94zm10 10l.94 2.06.94-2.06 2.06-.94-2.06-.94-.94-2.06-.94 2.06-2.06.94z\"/><path d=\"M17.41 7.96l-1.37-1.37c-.4-.4-.92-.59-1.43-.59-.52 0-1.04.2-1.43.59L10.3 9.45l-7.72 7.72c-.78.78-.78 2.05 0 2.83L4 21.41c.39.39.9.59 1.41.59.51 0 1.02-.2 1.41-.59l7.78-7.78 2.81-2.81c.8-.78.8-2.07 0-2.86zM5.41 20L4 18.59l7.72-7.72 1.47 1.35L5.41 20z\"/>\n",
              "  </svg>\n",
              "      </button>\n",
              "      \n",
              "  <style>\n",
              "    .colab-df-container {\n",
              "      display:flex;\n",
              "      flex-wrap:wrap;\n",
              "      gap: 12px;\n",
              "    }\n",
              "\n",
              "    .colab-df-convert {\n",
              "      background-color: #E8F0FE;\n",
              "      border: none;\n",
              "      border-radius: 50%;\n",
              "      cursor: pointer;\n",
              "      display: none;\n",
              "      fill: #1967D2;\n",
              "      height: 32px;\n",
              "      padding: 0 0 0 0;\n",
              "      width: 32px;\n",
              "    }\n",
              "\n",
              "    .colab-df-convert:hover {\n",
              "      background-color: #E2EBFA;\n",
              "      box-shadow: 0px 1px 2px rgba(60, 64, 67, 0.3), 0px 1px 3px 1px rgba(60, 64, 67, 0.15);\n",
              "      fill: #174EA6;\n",
              "    }\n",
              "\n",
              "    [theme=dark] .colab-df-convert {\n",
              "      background-color: #3B4455;\n",
              "      fill: #D2E3FC;\n",
              "    }\n",
              "\n",
              "    [theme=dark] .colab-df-convert:hover {\n",
              "      background-color: #434B5C;\n",
              "      box-shadow: 0px 1px 3px 1px rgba(0, 0, 0, 0.15);\n",
              "      filter: drop-shadow(0px 1px 2px rgba(0, 0, 0, 0.3));\n",
              "      fill: #FFFFFF;\n",
              "    }\n",
              "  </style>\n",
              "\n",
              "      <script>\n",
              "        const buttonEl =\n",
              "          document.querySelector('#df-3d72c4ee-be33-4fa5-8a37-cb12ec6ddd62 button.colab-df-convert');\n",
              "        buttonEl.style.display =\n",
              "          google.colab.kernel.accessAllowed ? 'block' : 'none';\n",
              "\n",
              "        async function convertToInteractive(key) {\n",
              "          const element = document.querySelector('#df-3d72c4ee-be33-4fa5-8a37-cb12ec6ddd62');\n",
              "          const dataTable =\n",
              "            await google.colab.kernel.invokeFunction('convertToInteractive',\n",
              "                                                     [key], {});\n",
              "          if (!dataTable) return;\n",
              "\n",
              "          const docLinkHtml = 'Like what you see? Visit the ' +\n",
              "            '<a target=\"_blank\" href=https://colab.research.google.com/notebooks/data_table.ipynb>data table notebook</a>'\n",
              "            + ' to learn more about interactive tables.';\n",
              "          element.innerHTML = '';\n",
              "          dataTable['output_type'] = 'display_data';\n",
              "          await google.colab.output.renderOutput(dataTable, element);\n",
              "          const docLink = document.createElement('div');\n",
              "          docLink.innerHTML = docLinkHtml;\n",
              "          element.appendChild(docLink);\n",
              "        }\n",
              "      </script>\n",
              "    </div>\n",
              "  </div>\n",
              "  "
            ]
          },
          "metadata": {},
          "execution_count": 24
        }
      ]
    },
    {
      "cell_type": "markdown",
      "source": [
        "### Crime"
      ],
      "metadata": {
        "id": "VB_Ck_ApqhtK"
      }
    },
    {
      "cell_type": "markdown",
      "source": [
        "Top 10 words in the Crime Category"
      ],
      "metadata": {
        "id": "CN12-2yxqmQj"
      }
    },
    {
      "cell_type": "code",
      "source": [
        "all_text = \" \".join(data[data.Class == \"Crime\"].filtered_text) \n",
        "count = pd.DataFrame(all_text.split(), columns = ['words'])\n",
        "top_10 = count[count['words'].isin(list(count.words.value_counts()[:10].index[:10]))]\n",
        "plt.figure(figsize=(10,5))\n",
        "sns.barplot(x = top_10.words.value_counts().index,\n",
        "            y = top_10.words.value_counts(), palette = sns.color_palette(\"mako\"))"
      ],
      "metadata": {
        "colab": {
          "base_uri": "https://localhost:8080/",
          "height": 337
        },
        "id": "Et9HS-4Kqc9H",
        "outputId": "0383d081-87db-4740-cd39-97e71ae1c8a7"
      },
      "execution_count": 25,
      "outputs": [
        {
          "output_type": "execute_result",
          "data": {
            "text/plain": [
              "<matplotlib.axes._subplots.AxesSubplot at 0x7f4d550db8d0>"
            ]
          },
          "metadata": {},
          "execution_count": 25
        },
        {
          "output_type": "display_data",
          "data": {
            "text/plain": [
              "<Figure size 720x360 with 1 Axes>"
            ],
            "image/png": "[encoded data removed]"
          },
          "metadata": {
            "needs_background": "light"
          }
        }
      ]
    },
    {
      "cell_type": "markdown",
      "source": [
        "## Politics"
      ],
      "metadata": {
        "id": "ajVn9WvUqpRX"
      }
    },
    {
      "cell_type": "markdown",
      "source": [
        "Top 10 words in the Politics Category"
      ],
      "metadata": {
        "id": "cigf2jiBqs7r"
      }
    },
    {
      "cell_type": "code",
      "source": [
        "all_text = \" \".join(data[data.Class == \"Politics\"].filtered_text)\n",
        "count = pd.DataFrame(all_text.split(), columns = ['words'])\n",
        "top_10 = count[count['words'].isin(list(count.words.value_counts()[:10].index[:10]))]\n",
        "plt.figure(figsize=(10,5))\n",
        "sns.barplot(x = top_10.words.value_counts().index,\n",
        "            y = top_10.words.value_counts(), palette = sns.color_palette(\"mako\"))"
      ],
      "metadata": {
        "colab": {
          "base_uri": "https://localhost:8080/",
          "height": 337
        },
        "id": "jAh2i5fdqqhV",
        "outputId": "14316332-828e-4f5e-ed65-84d504f31ad2"
      },
      "execution_count": 26,
      "outputs": [
        {
          "output_type": "execute_result",
          "data": {
            "text/plain": [
              "<matplotlib.axes._subplots.AxesSubplot at 0x7f4d4ff36b10>"
            ]
          },
          "metadata": {},
          "execution_count": 26
        },
        {
          "output_type": "display_data",
          "data": {
            "text/plain": [
              "<Figure size 720x360 with 1 Axes>"
            ],
            "image/png": "[encoded data removed]"
          },
          "metadata": {
            "needs_background": "light"
          }
        }
      ]
    },
    {
      "cell_type": "markdown",
      "source": [
        "## Science"
      ],
      "metadata": {
        "id": "ltGVO1Flquvb"
      }
    },
    {
      "cell_type": "markdown",
      "source": [
        "Top 10 words in the Science Category\n"
      ],
      "metadata": {
        "id": "VjDdM_0xqyOV"
      }
    },
    {
      "cell_type": "code",
      "source": [
        "all_text = \" \".join(data[data.Class == \"Science\"].filtered_text)\n",
        "count = pd.DataFrame(all_text.split(), columns = ['words'])\n",
        "top_10 = count[count['words'].isin(list(count.words.value_counts()[:10].index[:10]))]\n",
        "plt.figure(figsize=(10,5))\n",
        "sns.barplot(x = top_10.words.value_counts().index,\n",
        "            y = top_10.words.value_counts(), palette = sns.color_palette(\"mako\"))"
      ],
      "metadata": {
        "colab": {
          "base_uri": "https://localhost:8080/",
          "height": 337
        },
        "id": "CAevIY_vqzlY",
        "outputId": "6d397cdd-376e-4e68-9e29-f231c2c7c7ae"
      },
      "execution_count": 27,
      "outputs": [
        {
          "output_type": "execute_result",
          "data": {
            "text/plain": [
              "<matplotlib.axes._subplots.AxesSubplot at 0x7f4d4ff362d0>"
            ]
          },
          "metadata": {},
          "execution_count": 27
        },
        {
          "output_type": "display_data",
          "data": {
            "text/plain": [
              "<Figure size 720x360 with 1 Axes>"
            ],
            "image/png": "[encoded data removed]"
          },
          "metadata": {
            "needs_background": "light"
          }
        }
      ]
    },
    {
      "cell_type": "markdown",
      "source": [
        "# Konversi ke vektor untuk text yang sudah terfilter"
      ],
      "metadata": {
        "id": "XBSYJ8-mq4s2"
      }
    },
    {
      "cell_type": "code",
      "source": [
        "tfidf = TfidfVectorizer(lowercase=False)\n",
        "train_vec = tfidf.fit_transform(data['filtered_text'])\n",
        "train_vec.shape"
      ],
      "metadata": {
        "colab": {
          "base_uri": "https://localhost:8080/"
        },
        "id": "uR1j-pz2q77O",
        "outputId": "61f79ff0-97af-488f-fc22-be537a88d6e4"
      },
      "execution_count": 28,
      "outputs": [
        {
          "output_type": "execute_result",
          "data": {
            "text/plain": [
              "(6581, 43129)"
            ]
          },
          "metadata": {},
          "execution_count": 28
        }
      ]
    },
    {
      "cell_type": "code",
      "source": [
        "data['classification'] = data['Class'].replace(['Crime','Politics','Science'],[0,1,2])"
      ],
      "metadata": {
        "id": "K7mEpojBrAXk"
      },
      "execution_count": 29,
      "outputs": []
    },
    {
      "cell_type": "code",
      "source": [
        "x_train, x_val, y_train, y_val = train_test_split(train_vec,data['classification'], stratify=data['classification'], test_size=0.2)"
      ],
      "metadata": {
        "id": "zaYsGdm8rBim"
      },
      "execution_count": 30,
      "outputs": []
    },
    {
      "cell_type": "markdown",
      "source": [
        "# Model untuk training"
      ],
      "metadata": {
        "id": "duEeuaCurE_t"
      }
    },
    {
      "cell_type": "markdown",
      "source": [
        "> Base Model:\n",
        "* Logistic Regression with RandomizedSearchCV.\n",
        "* Multinomial Naive Bayes with RandomizedSearchCV.\n",
        "* SDGClassifier with Hinge Loss -> SVM.\n",
        "* Decision Tree Classifier\n",
        "* KNeighbors Classifier\n",
        "* XGBClassifer"
      ],
      "metadata": {
        "id": "6mPiOVbyrLuQ"
      }
    },
    {
      "cell_type": "markdown",
      "source": [
        "> Ensemble dengan:\n",
        "* Hard Voting Classifier.\n",
        "* Stacking Classifier with XGBClassifier as the \"final estimator\" or \"meta learner\"."
      ],
      "metadata": {
        "id": "w1FvSXpbrWU4"
      }
    },
    {
      "cell_type": "markdown",
      "source": [
        "## Logistic Regression with RandomizedSearchCV"
      ],
      "metadata": {
        "id": "5HfB0Vwdrcao"
      }
    },
    {
      "cell_type": "code",
      "source": [
        "C = np.arange(0, 1, 0.001)\n",
        "max_iter = range(100, 500)\n",
        "warm_start = [True, False]\n",
        "solver = ['lbfgs', 'newton-cg', 'liblinear']\n",
        "penalty = ['l2', 'l1']\n",
        "\n",
        "params = {\n",
        "    'C' : C,\n",
        "    'max_iter' : max_iter,\n",
        "    'warm_start' : warm_start,\n",
        "    'solver' : solver,\n",
        "    'penalty' : penalty\n",
        "}\n",
        "\n",
        "random_search = RandomizedSearchCV(\n",
        "    estimator = LogisticRegression(random_state = 1),\n",
        "    param_distributions = params,\n",
        "    n_iter = 100,\n",
        "    cv = 3,\n",
        "    n_jobs = -1,\n",
        "    random_state = 1,\n",
        "    verbose = 1\n",
        ").fit(x_train, y_train)\n",
        "\n",
        "random_search.best_params_"
      ],
      "metadata": {
        "colab": {
          "base_uri": "https://localhost:8080/"
        },
        "id": "dcMJD830rG8M",
        "outputId": "72d165d6-88fc-46ac-f4c6-d4d0b6798e83"
      },
      "execution_count": 31,
      "outputs": [
        {
          "output_type": "stream",
          "name": "stdout",
          "text": [
            "Fitting 3 folds for each of 100 candidates, totalling 300 fits\n"
          ]
        },
        {
          "output_type": "stream",
          "name": "stderr",
          "text": [
            "/usr/local/lib/python3.7/dist-packages/sklearn/model_selection/_validation.py:372: FitFailedWarning: \n",
            "117 fits failed out of a total of 300.\n",
            "The score on these train-test partitions for these parameters will be set to nan.\n",
            "If these failures are not expected, you can try to debug them by setting error_score='raise'.\n",
            "\n",
            "Below are more details about the failures:\n",
            "--------------------------------------------------------------------------------\n",
            "75 fits failed with the following error:\n",
            "Traceback (most recent call last):\n",
            "  File \"/usr/local/lib/python3.7/dist-packages/sklearn/model_selection/_validation.py\", line 680, in _fit_and_score\n",
            "    estimator.fit(X_train, y_train, **fit_params)\n",
            "  File \"/usr/local/lib/python3.7/dist-packages/sklearn/linear_model/_logistic.py\", line 1461, in fit\n",
            "    solver = _check_solver(self.solver, self.penalty, self.dual)\n",
            "  File \"/usr/local/lib/python3.7/dist-packages/sklearn/linear_model/_logistic.py\", line 449, in _check_solver\n",
            "    % (solver, penalty)\n",
            "ValueError: Solver newton-cg supports only 'l2' or 'none' penalties, got l1 penalty.\n",
            "\n",
            "--------------------------------------------------------------------------------\n",
            "42 fits failed with the following error:\n",
            "Traceback (most recent call last):\n",
            "  File \"/usr/local/lib/python3.7/dist-packages/sklearn/model_selection/_validation.py\", line 680, in _fit_and_score\n",
            "    estimator.fit(X_train, y_train, **fit_params)\n",
            "  File \"/usr/local/lib/python3.7/dist-packages/sklearn/linear_model/_logistic.py\", line 1461, in fit\n",
            "    solver = _check_solver(self.solver, self.penalty, self.dual)\n",
            "  File \"/usr/local/lib/python3.7/dist-packages/sklearn/linear_model/_logistic.py\", line 449, in _check_solver\n",
            "    % (solver, penalty)\n",
            "ValueError: Solver lbfgs supports only 'l2' or 'none' penalties, got l1 penalty.\n",
            "\n",
            "  warnings.warn(some_fits_failed_message, FitFailedWarning)\n",
            "/usr/local/lib/python3.7/dist-packages/sklearn/model_selection/_search.py:972: UserWarning: One or more of the test scores are non-finite: [0.93009125 0.87632945        nan        nan        nan 0.76063893\n",
            " 0.90539513 0.83092744 0.9228728  0.8977966         nan 0.92401262\n",
            "        nan        nan        nan 0.80984048        nan 0.87651993\n",
            " 0.83054768 0.93009125 0.9171735  0.87518974 0.43825991        nan\n",
            " 0.92097325        nan 0.9167932         nan 0.93009125        nan\n",
            " 0.92078343 0.9078647         nan 0.92610222        nan 0.90197589\n",
            "        nan        nan        nan 0.55509534        nan 0.89931628\n",
            " 0.91394333 0.87082051 0.85030477 0.92914158 0.83586647        nan\n",
            " 0.84232572        nan 0.88601866 0.93104103 0.91926353 0.82123888\n",
            " 0.90691481        nan 0.92078343        nan 0.92116329        nan\n",
            " 0.87670932 0.92553231 0.91375361 0.88506878 0.8495446  0.90729468\n",
            "        nan 0.845935          nan        nan 0.90596493        nan\n",
            "        nan 0.91413337        nan 0.91850368 0.85543406 0.92306285\n",
            " 0.80509204 0.91375372        nan 0.7727963  0.93047123 0.92363265\n",
            " 0.9228728         nan        nan        nan        nan 0.91356357\n",
            " 0.86075209 0.9131836         nan        nan 0.91964361        nan\n",
            " 0.89741641        nan        nan 0.90387555]\n",
            "  category=UserWarning,\n"
          ]
        },
        {
          "output_type": "execute_result",
          "data": {
            "text/plain": [
              "{'warm_start': False,\n",
              " 'solver': 'lbfgs',\n",
              " 'penalty': 'l2',\n",
              " 'max_iter': 486,\n",
              " 'C': 0.982}"
            ]
          },
          "metadata": {},
          "execution_count": 31
        }
      ]
    },
    {
      "cell_type": "code",
      "source": [
        "model_lr = random_search.best_estimator_\n",
        "model_lr.score(x_train, y_train)"
      ],
      "metadata": {
        "colab": {
          "base_uri": "https://localhost:8080/"
        },
        "id": "uPwmJmEZrg41",
        "outputId": "d571cc7b-b34d-4a76-c401-934f5d042f03"
      },
      "execution_count": 32,
      "outputs": [
        {
          "output_type": "execute_result",
          "data": {
            "text/plain": [
              "0.9772036474164134"
            ]
          },
          "metadata": {},
          "execution_count": 32
        }
      ]
    },
    {
      "cell_type": "code",
      "source": [
        "predicted = model_lr.predict(x_val)\n",
        "\n",
        "lr_acc = accuracy_score(y_val,predicted)\n",
        "lr_cop = cohen_kappa_score(y_val,predicted)\n",
        "lr = pd.DataFrame([lr_acc, lr_cop], columns = ['Logistic Regression with RandomizedSearchCV'])\n",
        "\n",
        "print(\"Test score: {:.2f}\".format(lr_acc))\n",
        "print(\"Cohen Kappa score: {:.2f}\".format(lr_cop))\n",
        "\n",
        "plt.figure(figsize=(15,10))\n",
        "ax = sns.heatmap(confusion_matrix(y_val,predicted),annot=True)\n",
        "ax = ax.set(xlabel='Predicted',ylabel='True',title='Confusion Matrix',\n",
        "            xticklabels=(['Crime','Politics','Science']),\n",
        "            yticklabels=(['Crime','Politics','Science']))"
      ],
      "metadata": {
        "colab": {
          "base_uri": "https://localhost:8080/",
          "height": 656
        },
        "id": "syhDqbPYriVT",
        "outputId": "d2591cb1-75c6-4bd3-cb60-ef5b9f7855be"
      },
      "execution_count": 33,
      "outputs": [
        {
          "output_type": "stream",
          "name": "stdout",
          "text": [
            "Test score: 0.94\n",
            "Cohen Kappa score: 0.90\n"
          ]
        },
        {
          "output_type": "display_data",
          "data": {
            "text/plain": [
              "<Figure size 1080x720 with 2 Axes>"
            ],
            "image/png": "[encoded data removed]"
          },
          "metadata": {
            "needs_background": "light"
          }
        }
      ]
    },
    {
      "cell_type": "markdown",
      "source": [
        "## Multinomial Naive Bayes with RandomizedSearchCV"
      ],
      "metadata": {
        "id": "2YCHXnKArkHm"
      }
    },
    {
      "cell_type": "code",
      "source": [
        "alpha = np.arange(0, 1, 0.001)\n",
        "fit_prior = [True, False]\n",
        "\n",
        "params = {\n",
        "    'alpha' : alpha,\n",
        "    'fit_prior' : fit_prior\n",
        "}\n",
        "\n",
        "random_search = RandomizedSearchCV(\n",
        "    estimator = MultinomialNB(),\n",
        "    param_distributions = params,\n",
        "    n_iter = 100,\n",
        "    cv = 3,\n",
        "    n_jobs = -1,\n",
        "    random_state = 1,\n",
        "    verbose = 1\n",
        ").fit(x_train, y_train)\n",
        "\n",
        "random_search.best_params_"
      ],
      "metadata": {
        "colab": {
          "base_uri": "https://localhost:8080/"
        },
        "id": "wYOBVbBerl9D",
        "outputId": "08bd56eb-e1b8-4b69-83f5-2635a51d67d6"
      },
      "execution_count": 34,
      "outputs": [
        {
          "output_type": "stream",
          "name": "stdout",
          "text": [
            "Fitting 3 folds for each of 100 candidates, totalling 300 fits\n"
          ]
        },
        {
          "output_type": "execute_result",
          "data": {
            "text/plain": [
              "{'fit_prior': True, 'alpha': 0.024}"
            ]
          },
          "metadata": {},
          "execution_count": 34
        }
      ]
    },
    {
      "cell_type": "code",
      "source": [
        "model_mnb = random_search.best_estimator_\n",
        "model_mnb.score(x_train, y_train)"
      ],
      "metadata": {
        "colab": {
          "base_uri": "https://localhost:8080/"
        },
        "id": "kSNuLm4srna4",
        "outputId": "9e3b9d1a-ec88-43f0-9e14-46a671cfedce"
      },
      "execution_count": 35,
      "outputs": [
        {
          "output_type": "execute_result",
          "data": {
            "text/plain": [
              "0.9943009118541033"
            ]
          },
          "metadata": {},
          "execution_count": 35
        }
      ]
    },
    {
      "cell_type": "code",
      "source": [
        "predicted = model_mnb.predict(x_val)\n",
        "\n",
        "mnb_acc = accuracy_score(y_val,predicted)\n",
        "mnb_cop = cohen_kappa_score(y_val,predicted)\n",
        "mnb = pd.DataFrame([mnb_acc, mnb_cop], columns = ['MultinomialNB with RandomizedSearchCV'])\n",
        "\n",
        "print(\"Test score: {:.2f}\".format(mnb_acc))\n",
        "print(\"Cohen Kappa score: {:.2f}\".format(mnb_cop))\n",
        "\n",
        "plt.figure(figsize=(15,10))\n",
        "ax = sns.heatmap(confusion_matrix(y_val,predicted),annot=True)\n",
        "ax = ax.set(xlabel='Predicted',ylabel='True',title='Confusion Matrix',\n",
        "            xticklabels=(['Crime','Politics','Science']),\n",
        "            yticklabels=(['Crime','Politics','Science']))"
      ],
      "metadata": {
        "colab": {
          "base_uri": "https://localhost:8080/",
          "height": 656
        },
        "id": "YdotVNW3rojt",
        "outputId": "933e0849-61b5-4507-89f6-7c882d1ad6fa"
      },
      "execution_count": 36,
      "outputs": [
        {
          "output_type": "stream",
          "name": "stdout",
          "text": [
            "Test score: 0.96\n",
            "Cohen Kappa score: 0.94\n"
          ]
        },
        {
          "output_type": "display_data",
          "data": {
            "text/plain": [
              "<Figure size 1080x720 with 2 Axes>"
            ],
            "image/png": "[encoded data removed]"
          },
          "metadata": {
            "needs_background": "light"
          }
        }
      ]
    },
    {
      "cell_type": "markdown",
      "source": [
        "## SGDClassifier with Squared Hinge Loss"
      ],
      "metadata": {
        "id": "n8oMfVegrrLN"
      }
    },
    {
      "cell_type": "code",
      "source": [
        "model_sgd_hinge = SGDClassifier(\n",
        "    loss='squared_hinge',\n",
        "    penalty='l2',\n",
        "    alpha=0.0001,\n",
        "    l1_ratio=0.15,\n",
        "    fit_intercept=True,\n",
        "    max_iter=1000,\n",
        "    tol=0.001,\n",
        "    shuffle=True,\n",
        "    verbose=1,\n",
        "    epsilon=0.1,\n",
        "    n_jobs=-1,\n",
        "    random_state=1,\n",
        "    learning_rate='optimal',\n",
        "    eta0=0.0,\n",
        "    power_t=0.5,\n",
        "    early_stopping=False,\n",
        "    validation_fraction=0.1,\n",
        "    n_iter_no_change=5,\n",
        "    class_weight=None,\n",
        "    warm_start=False,\n",
        "    average=False).fit(x_train, y_train)\n",
        "\n",
        "model_sgd_hinge.score(x_train, y_train)"
      ],
      "metadata": {
        "colab": {
          "base_uri": "https://localhost:8080/"
        },
        "id": "FiiDHwAFrruv",
        "outputId": "a76ca99b-e006-4404-f3e0-1b3fddeaa098"
      },
      "execution_count": 37,
      "outputs": [
        {
          "output_type": "stream",
          "name": "stderr",
          "text": [
            "[Parallel(n_jobs=-1)]: Using backend ThreadingBackend with 2 concurrent workers.\n"
          ]
        },
        {
          "output_type": "stream",
          "name": "stdout",
          "text": [
            "-- Epoch 1\n",
            "-- Epoch 1\n",
            "Norm: 1878.43, NNZs: 14105, Bias: -6.584713, T: 5264, Avg. loss: 98.075397\n",
            "Norm: 1032.96, NNZs: 11676, Bias: -12.909489, T: 5264, Avg. loss: 29.053818Total training time: 0.01 seconds.\n",
            "\n",
            "Total training time: 0.01 seconds.\n",
            "-- Epoch 2\n",
            "-- Epoch 2\n",
            "Norm: 1029.99, NNZs: 15259, Bias: -4.640437, T: 10528, Avg. loss: 6.056100\n",
            "Total training time: 0.02 seconds.\n",
            "-- Epoch 3\n",
            "Norm: 707.10, NNZs: 15478, Bias: -4.681222, T: 15792, Avg. loss: 0.049846Norm: 571.45, NNZs: 13614, Bias: -9.798646, T: 10528, Avg. loss: 3.001282\n",
            "Total training time: 0.04 seconds.\n",
            "-- Epoch 3\n",
            "Norm: 393.57, NNZs: 13750, Bias: -8.793793, T: 15792, Avg. loss: 0.267118\n",
            "Total training time: 0.04 seconds.\n",
            "-- Epoch 4\n",
            "Norm: 538.59, NNZs: 15804, Bias: -4.339337, T: 21056, Avg. loss: 0.005158\n",
            "Total training time: 0.05 seconds.\n",
            "-- Epoch 4\n",
            "Norm: 300.86, NNZs: 13837, Bias: -8.102932, T: 21056, Avg. loss: 0.043995\n",
            "Total training time: 0.06 seconds.\n",
            "-- Epoch 5\n",
            "\n",
            "Total training time: 0.07 seconds.Norm: 435.07, NNZs: 15935, Bias: -4.052428, T: 26320, Avg. loss: 0.003712\n",
            "-- Epoch 5\n",
            "\n",
            "Total training time: 0.07 seconds.Norm: 244.25, NNZs: 13940, Bias: -7.476573, T: 26320, Avg. loss: 0.038924\n",
            "-- Epoch 6\n",
            "Norm: 365.13, NNZs: 16047, Bias: -3.735623, T: 31584, Avg. loss: 0.004646\n",
            "\n",
            "Total training time: 0.08 seconds.Total training time: 0.08 seconds.\n",
            "\n",
            "-- Epoch 6-- Epoch 7\n",
            "\n",
            "Norm: 314.63, NNZs: 16176, Bias: -3.501593, T: 36848, Avg. loss: 0.003239Norm: 206.14, NNZs: 14244, Bias: -6.949651, T: 31584, Avg. loss: 0.035316\n",
            "Total training time: 0.10 seconds.\n",
            "-- Epoch 8\n",
            "Total training time: 0.10 seconds.\n",
            "-- Epoch 7\n",
            "Norm: 276.50, NNZs: 16300, Bias: -3.289046, T: 42112, Avg. loss: 0.003366\n",
            "Norm: 178.72, NNZs: 14438, Bias: -6.515078, T: 36848, Avg. loss: 0.031368\n",
            "Total training time: 0.11 seconds.\n",
            "-- Epoch 8\n",
            "Total training time: 0.11 seconds.\n",
            "-- Epoch 9\n",
            "\n",
            "Norm: 246.68, NNZs: 16360, Bias: -3.105239, T: 47376, Avg. loss: 0.003128\n",
            "Total training time: 0.12 seconds.\n",
            "-- Epoch 10\n",
            "Norm: 158.02, NNZs: 14521, Bias: -6.155843, T: 42112, Avg. loss: 0.028115\n",
            "Total training time: 0.13 seconds.\n",
            "-- Epoch 9\n",
            "Norm: 222.76, NNZs: 17071, Bias: -2.930042, T: 52640, Avg. loss: 0.003307\n",
            "Total training time: 0.13 seconds.\n",
            "Convergence after 10 epochs took 0.13 seconds\n",
            "-- Epoch 1\n",
            "Norm: 141.97, NNZs: 14739, Bias: -5.827622, T: 47376, Avg. loss: 0.025739\n",
            "Total training time: 0.14 seconds.\n",
            "-- Epoch 10\n",
            "Norm: 3529.10, NNZs: 13796, Bias: 3.400385, T: 5264, Avg. loss: 341.338944\n",
            "Total training time: 0.01 seconds.\n",
            "-- Epoch 2\n",
            "Norm: 1928.10, NNZs: 15985, Bias: 5.004498, T: 10528, Avg. loss: 11.304018\n",
            "Total training time: 0.02 seconds.\n",
            "Norm: 129.10, NNZs: 14892, Bias: -5.545944, T: 52640, Avg. loss: 0.023828-- Epoch 3\n",
            "Total training time: 0.15 seconds.\n",
            "-- Epoch 11\n",
            "\n",
            "Norm: 1323.86, NNZs: 16155, Bias: 3.681579, T: 15792, Avg. loss: 0.111375Norm: 118.52, NNZs: 15251, Bias: -5.305452, T: 57904, Avg. loss: 0.022118\n",
            "Total training time: 0.03 seconds.\n",
            "-- Epoch 4\n",
            "Total training time: 0.17 seconds.\n",
            "-- Epoch 12\n",
            "Norm: 1007.90, NNZs: 16209, Bias: 3.557077, T: 21056, Avg. loss: 0.009381\n",
            "Norm: 109.77, NNZs: 15374, Bias: -5.075752, T: 63168, Avg. loss: 0.021244\n",
            "Total training time: 0.05 seconds.\n",
            "-- Epoch 5\n",
            "Total training time: 0.19 seconds.\n",
            "\n",
            "-- Epoch 13\n",
            "Norm: 813.77, NNZs: 16319, Bias: 3.299673, T: 26320, Avg. loss: 0.009940\n",
            "Norm: 102.39, NNZs: 15531, Bias: -4.864489, T: 68432, Avg. loss: 0.020132\n",
            "Total training time: 0.20 seconds.\n",
            "-- Epoch 14\n",
            "Total training time: 0.06 seconds.\n",
            "-- Epoch 6\n",
            "Norm: 96.01, NNZs: 15616, Bias: -4.685883, T: 73696, Avg. loss: 0.018641\n",
            "Total training time: 0.21 seconds.\n",
            "-- Epoch 15\n",
            "Norm: 682.39, NNZs: 16438, Bias: 3.054779, T: 31584, Avg. loss: 0.009062\n",
            "Total training time: 0.08 seconds.\n",
            "-- Epoch 7\n",
            "Norm: 90.54, NNZs: 15635, Bias: -4.512928, T: 78960, Avg. loss: 0.018116\n",
            "Total training time: 0.22 seconds.\n",
            "-- Epoch 16\n",
            "Norm: 85.72, NNZs: 15740, Bias: -4.360687, T: 84224, Avg. loss: 0.017357\n",
            "Total training time: 0.23 seconds.\n",
            "-- Epoch 17\n",
            "Norm: 587.57, NNZs: 16506, Bias: 2.848702, T: 36848, Avg. loss: 0.008127\n",
            "Total training time: 0.09 seconds.\n",
            "-- Epoch 8\n",
            "Norm: 81.49, NNZs: 15840, Bias: -4.216969, T: 89488, Avg. loss: 0.016795\n",
            "Total training time: 0.24 seconds.\n",
            "-- Epoch 18\n",
            "Norm: 515.90, NNZs: 16552, Bias: 2.681248, T: 42112, Avg. loss: 0.007190\n",
            "Total training time: 0.10 seconds.\n",
            "-- Epoch 9\n",
            "Norm: 77.74, NNZs: 15961, Bias: -4.083833, T: 94752, Avg. loss: 0.015979\n",
            "Total training time: 0.25 seconds.\n",
            "-- Epoch 19\n",
            "Norm: 459.86, NNZs: 16618, Bias: 2.509530, T: 47376, Avg. loss: 0.007206\n",
            "Total training time: 0.12 seconds.\n",
            "Convergence after 9 epochs took 0.12 seconds\n",
            "Norm: 74.41, NNZs: 16081, Bias: -3.956555, T: 100016, Avg. loss: 0.015679\n",
            "Total training time: 0.26 seconds.\n",
            "Convergence after 19 epochs took 0.26 seconds\n"
          ]
        },
        {
          "output_type": "stream",
          "name": "stderr",
          "text": [
            "[Parallel(n_jobs=-1)]: Done   3 out of   3 | elapsed:    0.3s finished\n"
          ]
        },
        {
          "output_type": "execute_result",
          "data": {
            "text/plain": [
              "0.9996200607902735"
            ]
          },
          "metadata": {},
          "execution_count": 37
        }
      ]
    },
    {
      "cell_type": "code",
      "source": [
        "predicted = model_sgd_hinge.predict(x_val)\n",
        "\n",
        "sgd_hinge_acc = accuracy_score(y_val,predicted)\n",
        "sgd_hinge_cop = cohen_kappa_score(y_val,predicted)\n",
        "sgd_hinge = pd.DataFrame([sgd_hinge_acc, sgd_hinge_cop], columns = ['SGDClassifier with Squared Hinge Loss'])\n",
        "\n",
        "print(\"Test score: {:.2f}\".format(sgd_hinge_acc))\n",
        "print(\"Cohen Kappa score: {:.2f}\".format(sgd_hinge_cop))\n",
        "plt.figure(figsize=(15,10))\n",
        "ax = sns.heatmap(confusion_matrix(y_val,predicted),annot=True)\n",
        "ax = ax.set(xlabel='Predicted',ylabel='True',title='Confusion Matrix',\n",
        "            xticklabels=(['Crime','Politics','Science']),\n",
        "            yticklabels=(['Crime','Politics','Science']))"
      ],
      "metadata": {
        "colab": {
          "base_uri": "https://localhost:8080/",
          "height": 656
        },
        "id": "8m7DWbYyrvL0",
        "outputId": "ef9f2433-92ea-416c-d30e-36894c5c331b"
      },
      "execution_count": 38,
      "outputs": [
        {
          "output_type": "stream",
          "name": "stdout",
          "text": [
            "Test score: 0.94\n",
            "Cohen Kappa score: 0.90\n"
          ]
        },
        {
          "output_type": "display_data",
          "data": {
            "text/plain": [
              "<Figure size 1080x720 with 2 Axes>"
            ],
            "image/png": "[encoded data removed]"
          },
          "metadata": {
            "needs_background": "light"
          }
        }
      ]
    },
    {
      "cell_type": "markdown",
      "source": [
        "## Decision Tree Classifier with RandomizedSearchCV"
      ],
      "metadata": {
        "id": "45CwD_sIrweG"
      }
    },
    {
      "cell_type": "code",
      "source": [
        "criterion = ['gini', 'entropy']\n",
        "splitter = ['best', 'random']\n",
        "max_depth = range(5, 200)\n",
        "max_features = ['auto', 'sqrt', 'log2']\n",
        "\n",
        "params = {\n",
        "    'criterion' : criterion,\n",
        "    'splitter' : splitter,\n",
        "    'max_depth' : max_depth,\n",
        "    'max_features' : max_features\n",
        "}\n",
        "\n",
        "random_search = RandomizedSearchCV(\n",
        "    estimator = DecisionTreeClassifier(random_state = 1),\n",
        "    param_distributions = params,\n",
        "    n_iter = 100,\n",
        "    cv = 3,\n",
        "    n_jobs = -1,\n",
        "    random_state = 1,\n",
        "    verbose = 1\n",
        ").fit(x_train.toarray(), y_train)\n",
        "\n",
        "random_search.best_params_"
      ],
      "metadata": {
        "colab": {
          "base_uri": "https://localhost:8080/"
        },
        "id": "09hKocxxrxGl",
        "outputId": "71c47480-3aa6-4791-f528-2b3017216f89"
      },
      "execution_count": 39,
      "outputs": [
        {
          "output_type": "stream",
          "name": "stdout",
          "text": [
            "Fitting 3 folds for each of 100 candidates, totalling 300 fits\n"
          ]
        },
        {
          "output_type": "stream",
          "name": "stderr",
          "text": [
            "/usr/local/lib/python3.7/dist-packages/joblib/externals/loky/process_executor.py:703: UserWarning: A worker stopped while some jobs were given to the executor. This can be caused by a too short worker timeout or by a memory leak.\n",
            "  \"timeout or by a memory leak.\", UserWarning\n"
          ]
        },
        {
          "output_type": "execute_result",
          "data": {
            "text/plain": [
              "{'splitter': 'random',\n",
              " 'max_features': 'sqrt',\n",
              " 'max_depth': 184,\n",
              " 'criterion': 'gini'}"
            ]
          },
          "metadata": {},
          "execution_count": 39
        }
      ]
    },
    {
      "cell_type": "code",
      "source": [
        "model_dt = random_search.best_estimator_\n",
        "model_dt.score(x_train.toarray(), y_train)"
      ],
      "metadata": {
        "colab": {
          "base_uri": "https://localhost:8080/"
        },
        "id": "l537QJiLrzgW",
        "outputId": "689ced42-a107-4fd3-92d3-0a9d9ce3e63b"
      },
      "execution_count": 40,
      "outputs": [
        {
          "output_type": "execute_result",
          "data": {
            "text/plain": [
              "0.9713145896656535"
            ]
          },
          "metadata": {},
          "execution_count": 40
        }
      ]
    },
    {
      "cell_type": "code",
      "source": [
        "predicted = model_dt.predict(x_val.toarray())\n",
        "\n",
        "dt_acc = accuracy_score(y_val,predicted)\n",
        "dt_cop = cohen_kappa_score(y_val,predicted)\n",
        "dt = pd.DataFrame([dt_acc, dt_cop], columns = ['DecisionTreeClassifier with RandomizedSearchCV'])\n",
        "\n",
        "print(\"Test score: {:.2f}\".format(dt_acc))\n",
        "print(\"Cohen Kappa score: {:.2f}\".format(dt_cop))\n",
        "plt.figure(figsize=(15,10))\n",
        "ax = sns.heatmap(confusion_matrix(y_val,predicted),annot=True)\n",
        "ax = ax.set(xlabel='Predicted',ylabel='True',title='Confusion Matrix',\n",
        "            xticklabels=(['Crime','Politics','Science']),\n",
        "            yticklabels=(['Crime','Politics','Science']))"
      ],
      "metadata": {
        "colab": {
          "base_uri": "https://localhost:8080/",
          "height": 656
        },
        "id": "PFuQX9q3r0sQ",
        "outputId": "60ad39bf-b903-40d4-9031-bc245dd187d8"
      },
      "execution_count": 41,
      "outputs": [
        {
          "output_type": "stream",
          "name": "stdout",
          "text": [
            "Test score: 0.71\n",
            "Cohen Kappa score: 0.53\n"
          ]
        },
        {
          "output_type": "display_data",
          "data": {
            "text/plain": [
              "<Figure size 1080x720 with 2 Axes>"
            ],
            "image/png": "[encoded data removed]"
          },
          "metadata": {
            "needs_background": "light"
          }
        }
      ]
    },
    {
      "cell_type": "markdown",
      "source": [
        "## KNeighborsClassifier with RandomizedSearchCV"
      ],
      "metadata": {
        "id": "JE8XWJCnr2Ch"
      }
    },
    {
      "cell_type": "code",
      "source": [
        "n_neighbors = range(5, 100)\n",
        "weights = ['uniform', 'distance']\n",
        "algorithm = ['auto', 'ball_tree', 'kd_tree', 'brute']\n",
        "leaf_size = range(30, 100)\n",
        "p = range(1, 4)\n",
        "\n",
        "params = {\n",
        "    'n_neighbors' : n_neighbors,\n",
        "    'weights' : weights,\n",
        "    'algorithm' : algorithm,\n",
        "    'leaf_size' : leaf_size,\n",
        "    'p'  : p\n",
        "}\n",
        "\n",
        "random_search = RandomizedSearchCV(\n",
        "    estimator = KNeighborsClassifier(n_jobs = -1),\n",
        "    param_distributions = params,\n",
        "    n_iter = 100,\n",
        "    cv = 3,\n",
        "    n_jobs = -1,\n",
        "    random_state = 1,\n",
        "    verbose = 1\n",
        ").fit(x_train, y_train)\n",
        "\n",
        "random_search.best_params_"
      ],
      "metadata": {
        "colab": {
          "base_uri": "https://localhost:8080/"
        },
        "id": "CyRHmZgjr2nk",
        "outputId": "87b2c66a-9d5f-45a1-b03f-f8362531c85e"
      },
      "execution_count": 43,
      "outputs": [
        {
          "output_type": "stream",
          "name": "stdout",
          "text": [
            "Fitting 3 folds for each of 100 candidates, totalling 300 fits\n"
          ]
        },
        {
          "output_type": "stream",
          "name": "stderr",
          "text": [
            "/usr/local/lib/python3.7/dist-packages/sklearn/model_selection/_validation.py:372: FitFailedWarning: \n",
            "84 fits failed out of a total of 300.\n",
            "The score on these train-test partitions for these parameters will be set to nan.\n",
            "If these failures are not expected, you can try to debug them by setting error_score='raise'.\n",
            "\n",
            "Below are more details about the failures:\n",
            "--------------------------------------------------------------------------------\n",
            "84 fits failed with the following error:\n",
            "Traceback (most recent call last):\n",
            "  File \"/usr/local/lib/python3.7/dist-packages/sklearn/model_selection/_validation.py\", line 680, in _fit_and_score\n",
            "    estimator.fit(X_train, y_train, **fit_params)\n",
            "  File \"/usr/local/lib/python3.7/dist-packages/sklearn/neighbors/_classification.py\", line 198, in fit\n",
            "    return self._fit(X, y)\n",
            "  File \"/usr/local/lib/python3.7/dist-packages/sklearn/neighbors/_base.py\", line 513, in _fit\n",
            "    \"Metric can also be a callable function.\" % (self.effective_metric_)\n",
            "ValueError: Metric 'minkowski' not valid for sparse input. Use sorted(sklearn.neighbors.VALID_METRICS_SPARSE['brute']) to get valid options. Metric can also be a callable function.\n",
            "\n",
            "  warnings.warn(some_fits_failed_message, FitFailedWarning)\n",
            "/usr/local/lib/python3.7/dist-packages/sklearn/model_selection/_search.py:972: UserWarning: One or more of the test scores are non-finite: [0.90634382 0.91736159        nan        nan        nan 0.54899007\n",
            " 0.90178444 0.5262079  0.4734001         nan 0.91869113 0.90064463\n",
            "        nan 0.89114763 0.42306057        nan 0.92325202 0.55241959\n",
            " 0.9067251  0.90064538 0.90881393 0.91337277        nan        nan\n",
            " 0.5438636  0.54880122 0.54784863 0.5518407         nan        nan\n",
            " 0.47567963        nan 0.44585725 0.42173169        nan 0.48669794\n",
            " 0.91641312        nan        nan 0.91033318 0.44585725        nan\n",
            "        nan 0.43103865 0.90881328        nan        nan 0.91014303\n",
            " 0.91679298 0.92571997 0.44300717 0.91470252 0.91698172 0.89475636\n",
            " 0.55165076        nan 0.90786405 0.40976414 0.90178509 0.91299323\n",
            "        nan 0.89513623 0.92097163 0.44756687 0.9129928  0.89950535\n",
            " 0.92097141 0.53060724 0.90634382        nan 0.91793118 0.54937005\n",
            "        nan        nan 0.50076071        nan 0.90197535        nan\n",
            " 0.89874594 0.54917827 0.90805442 0.91356227        nan 0.92040291\n",
            " 0.9067251  0.43483829 0.91698172 0.89209729 0.48498962 0.89342694\n",
            " 0.89703611 0.52108749 0.90672445        nan        nan 0.92154067\n",
            "        nan 0.5375946  0.89532649 0.90653408]\n",
            "  category=UserWarning,\n"
          ]
        },
        {
          "output_type": "execute_result",
          "data": {
            "text/plain": [
              "{'weights': 'distance',\n",
              " 'p': 2,\n",
              " 'n_neighbors': 17,\n",
              " 'leaf_size': 74,\n",
              " 'algorithm': 'brute'}"
            ]
          },
          "metadata": {},
          "execution_count": 43
        }
      ]
    },
    {
      "cell_type": "code",
      "source": [
        "model_kn = random_search.best_estimator_\n",
        "model_kn.score(x_train, y_train)"
      ],
      "metadata": {
        "colab": {
          "base_uri": "https://localhost:8080/"
        },
        "id": "fXN3L9-tr401",
        "outputId": "29d33182-a2ee-46fa-c9e8-f158903758b3"
      },
      "execution_count": 44,
      "outputs": [
        {
          "output_type": "execute_result",
          "data": {
            "text/plain": [
              "0.9998100303951368"
            ]
          },
          "metadata": {},
          "execution_count": 44
        }
      ]
    },
    {
      "cell_type": "code",
      "source": [
        "predicted = model_kn.predict(x_val)\n",
        "\n",
        "kn_acc = accuracy_score(y_val,predicted)\n",
        "kn_cop = cohen_kappa_score(y_val,predicted)\n",
        "kn = pd.DataFrame([kn_acc, kn_cop], columns = ['KNeighborsClassifier with RandomizedSearchCV'])\n",
        "\n",
        "print(\"Test score: {:.2f}\".format(kn_acc))\n",
        "print(\"Cohen Kappa score: {:.2f}\".format(kn_cop))\n",
        "plt.figure(figsize=(15,10))\n",
        "ax = sns.heatmap(confusion_matrix(y_val,predicted),annot=True)\n",
        "ax = ax.set(xlabel='Predicted',ylabel='True',title='Confusion Matrix',\n",
        "            xticklabels=(['Crime','Politics','Science']),\n",
        "            yticklabels=(['Crime','Politics','Science']))"
      ],
      "metadata": {
        "colab": {
          "base_uri": "https://localhost:8080/",
          "height": 656
        },
        "id": "-2DBKlM5r50Z",
        "outputId": "0fb981a6-12b7-481a-9c05-49a9a7ea9cce"
      },
      "execution_count": 45,
      "outputs": [
        {
          "output_type": "stream",
          "name": "stdout",
          "text": [
            "Test score: 0.93\n",
            "Cohen Kappa score: 0.89\n"
          ]
        },
        {
          "output_type": "display_data",
          "data": {
            "text/plain": [
              "<Figure size 1080x720 with 2 Axes>"
            ],
            "image/png": "[encoded data removed]"
          },
          "metadata": {
            "needs_background": "light"
          }
        }
      ]
    },
    {
      "cell_type": "markdown",
      "source": [
        "## Ensemble Methods"
      ],
      "metadata": {
        "id": "AzVOwQ9xr7Zo"
      }
    },
    {
      "cell_type": "code",
      "source": [
        "estimators = [\n",
        "    ('kn', model_kn),\n",
        "    ('mnb', model_mnb),\n",
        "    ('lr', model_lr),\n",
        "    ('dt', model_dt)\n",
        "]\n",
        "\n",
        "estimators"
      ],
      "metadata": {
        "colab": {
          "base_uri": "https://localhost:8080/"
        },
        "id": "khxlw2gFr82b",
        "outputId": "884d16cd-01c0-4fff-d921-9e3d919a27bc"
      },
      "execution_count": 46,
      "outputs": [
        {
          "output_type": "execute_result",
          "data": {
            "text/plain": [
              "[('kn',\n",
              "  KNeighborsClassifier(algorithm='brute', leaf_size=74, n_jobs=-1, n_neighbors=17,\n",
              "                       weights='distance')),\n",
              " ('mnb', MultinomialNB(alpha=0.024)),\n",
              " ('lr', LogisticRegression(C=0.982, max_iter=486, random_state=1)),\n",
              " ('dt',\n",
              "  DecisionTreeClassifier(max_depth=184, max_features='sqrt', random_state=1,\n",
              "                         splitter='random'))]"
            ]
          },
          "metadata": {},
          "execution_count": 46
        }
      ]
    },
    {
      "cell_type": "markdown",
      "source": [
        "## Soft Voting Classifier"
      ],
      "metadata": {
        "id": "H4RcQe6Hr_k-"
      }
    },
    {
      "cell_type": "code",
      "source": [
        "model_voting = VotingClassifier(\n",
        "    estimators = estimators,\n",
        "    voting='soft', \n",
        "    n_jobs=-1,\n",
        "    flatten_transform=True, \n",
        "    verbose=1).fit(x_train, y_train)\n",
        "\n",
        "model_voting.score(x_train, y_train)"
      ],
      "metadata": {
        "colab": {
          "base_uri": "https://localhost:8080/"
        },
        "id": "Wp2atmKosAJP",
        "outputId": "63242165-01eb-4bd4-c850-608613519d81"
      },
      "execution_count": 47,
      "outputs": [
        {
          "output_type": "execute_result",
          "data": {
            "text/plain": [
              "0.998290273556231"
            ]
          },
          "metadata": {},
          "execution_count": 47
        }
      ]
    },
    {
      "cell_type": "code",
      "source": [
        "predicted = model_voting.predict(x_val)\n",
        "\n",
        "voting_acc = accuracy_score(y_val,predicted)\n",
        "voting_cop = cohen_kappa_score(y_val,predicted)\n",
        "voting = pd.DataFrame([voting_acc, voting_cop], columns = ['Soft Voting Classifier'])\n",
        "\n",
        "print(\"Test score: {:.2f}\".format(voting_acc))\n",
        "print(\"Cohen Kappa score: {:.2f}\".format(voting_cop))\n",
        "\n",
        "plt.figure(figsize=(15,10))\n",
        "ax = sns.heatmap(confusion_matrix(y_val,predicted),annot=True)\n",
        "ax = ax.set(xlabel='Predicted',ylabel='True',title='Confusion Matrix',\n",
        "            xticklabels=(['Crime','Politics','Science']),\n",
        "            yticklabels=(['Crime','Politics','Science']))"
      ],
      "metadata": {
        "colab": {
          "base_uri": "https://localhost:8080/",
          "height": 656
        },
        "id": "mxsLVaggsE78",
        "outputId": "3c5c1110-74f7-4bf4-e4c9-0905f5de0910"
      },
      "execution_count": 48,
      "outputs": [
        {
          "output_type": "stream",
          "name": "stdout",
          "text": [
            "Test score: 0.95\n",
            "Cohen Kappa score: 0.92\n"
          ]
        },
        {
          "output_type": "display_data",
          "data": {
            "text/plain": [
              "<Figure size 1080x720 with 2 Axes>"
            ],
            "image/png": "[encoded data removed]"
          },
          "metadata": {
            "needs_background": "light"
          }
        }
      ]
    },
    {
      "cell_type": "markdown",
      "source": [
        "## Stacking Classifier"
      ],
      "metadata": {
        "id": "MQOG2RvTsGKK"
      }
    },
    {
      "cell_type": "code",
      "source": [
        "xgc = xgboost.XGBClassifier()\n",
        "\n",
        "model_stack = StackingClassifier(\n",
        "    estimators=estimators+[('svm', model_sgd_hinge)],\n",
        "    final_estimator=xgc,\n",
        "    n_jobs = -1,\n",
        "    verbose = 1\n",
        ")\n",
        "\n",
        "model_stack.fit(x_train, y_train)\n",
        "\n",
        "model_stack.score(x_train, y_train)"
      ],
      "metadata": {
        "colab": {
          "base_uri": "https://localhost:8080/"
        },
        "id": "M-mrTV2tsG6E",
        "outputId": "8a5fc286-ca9e-4c7c-d050-b44588de0cdf"
      },
      "execution_count": 49,
      "outputs": [
        {
          "output_type": "execute_result",
          "data": {
            "text/plain": [
              "0.9984802431610942"
            ]
          },
          "metadata": {},
          "execution_count": 49
        }
      ]
    },
    {
      "cell_type": "code",
      "source": [
        "predicted = model_stack.predict(x_val)\n",
        "\n",
        "stack_acc = accuracy_score(y_val,predicted)\n",
        "stack_cop = cohen_kappa_score(y_val,predicted)\n",
        "stack = pd.DataFrame([stack_acc, stack_cop], columns = ['Stacking Classifier'])\n",
        "\n",
        "print(\"Test score: {:.2f}\".format(stack_acc))\n",
        "print(\"Cohen Kappa score: {:.2f}\".format(stack_cop))\n",
        "\n",
        "plt.figure(figsize=(15,10))\n",
        "ax = sns.heatmap(confusion_matrix(y_val,predicted),annot=True)\n",
        "ax = ax.set(xlabel='Predicted',ylabel='True',title='Confusion Matrix',\n",
        "            xticklabels=(['Crime','Politics','Science']),\n",
        "            yticklabels=(['Crime','Politics','Science']))"
      ],
      "metadata": {
        "colab": {
          "base_uri": "https://localhost:8080/",
          "height": 656
        },
        "id": "1FWrJDuvsJY1",
        "outputId": "847af6ff-9f15-440a-8f11-5bdec84142bf"
      },
      "execution_count": 50,
      "outputs": [
        {
          "output_type": "stream",
          "name": "stdout",
          "text": [
            "Test score: 0.97\n",
            "Cohen Kappa score: 0.94\n"
          ]
        },
        {
          "output_type": "display_data",
          "data": {
            "text/plain": [
              "<Figure size 1080x720 with 2 Axes>"
            ],
            "image/png": "[encoded data removed]"
          },
          "metadata": {
            "needs_background": "light"
          }
        }
      ]
    },
    {
      "cell_type": "markdown",
      "source": [
        "# Model Comparision"
      ],
      "metadata": {
        "id": "b933573DsKy2"
      }
    },
    {
      "cell_type": "code",
      "source": [
        "model_comp = pd.concat([lr, mnb, sgd_hinge, dt, kn, voting, stack], axis = 1)\n",
        "model_comp"
      ],
      "metadata": {
        "colab": {
          "base_uri": "https://localhost:8080/",
          "height": 174
        },
        "id": "EQzp33q1sLfL",
        "outputId": "3edc2c73-d440-45f8-e6ba-4b8421cdfb67"
      },
      "execution_count": 51,
      "outputs": [
        {
          "output_type": "execute_result",
          "data": {
            "text/plain": [
              "   Logistic Regression with RandomizedSearchCV  \\\n",
              "0                                     0.940774   \n",
              "1                                     0.903588   \n",
              "\n",
              "   MultinomialNB with RandomizedSearchCV  \\\n",
              "0                               0.963554   \n",
              "1                               0.941243   \n",
              "\n",
              "   SGDClassifier with Squared Hinge Loss  \\\n",
              "0                               0.936978   \n",
              "1                               0.898418   \n",
              "\n",
              "   DecisionTreeClassifier with RandomizedSearchCV  \\\n",
              "0                                        0.712225   \n",
              "1                                        0.532253   \n",
              "\n",
              "   KNeighborsClassifier with RandomizedSearchCV  Soft Voting Classifier  \\\n",
              "0                                      0.933181                0.951405   \n",
              "1                                      0.892648                0.921459   \n",
              "\n",
              "   Stacking Classifier  \n",
              "0             0.965072  \n",
              "1             0.943694  "
            ],
            "text/html": [
              "\n",
              "  <div id=\"df-bd32ed12-9eb5-4187-a206-43e171515995\">\n",
              "    <div class=\"colab-df-container\">\n",
              "      <div>\n",
              "<style scoped>\n",
              "    .dataframe tbody tr th:only-of-type {\n",
              "        vertical-align: middle;\n",
              "    }\n",
              "\n",
              "    .dataframe tbody tr th {\n",
              "        vertical-align: top;\n",
              "    }\n",
              "\n",
              "    .dataframe thead th {\n",
              "        text-align: right;\n",
              "    }\n",
              "</style>\n",
              "<table border=\"1\" class=\"dataframe\">\n",
              "  <thead>\n",
              "    <tr style=\"text-align: right;\">\n",
              "      <th></th>\n",
              "      <th>Logistic Regression with RandomizedSearchCV</th>\n",
              "      <th>MultinomialNB with RandomizedSearchCV</th>\n",
              "      <th>SGDClassifier with Squared Hinge Loss</th>\n",
              "      <th>DecisionTreeClassifier with RandomizedSearchCV</th>\n",
              "      <th>KNeighborsClassifier with RandomizedSearchCV</th>\n",
              "      <th>Soft Voting Classifier</th>\n",
              "      <th>Stacking Classifier</th>\n",
              "    </tr>\n",
              "  </thead>\n",
              "  <tbody>\n",
              "    <tr>\n",
              "      <th>0</th>\n",
              "      <td>0.940774</td>\n",
              "      <td>0.963554</td>\n",
              "      <td>0.936978</td>\n",
              "      <td>0.712225</td>\n",
              "      <td>0.933181</td>\n",
              "      <td>0.951405</td>\n",
              "      <td>0.965072</td>\n",
              "    </tr>\n",
              "    <tr>\n",
              "      <th>1</th>\n",
              "      <td>0.903588</td>\n",
              "      <td>0.941243</td>\n",
              "      <td>0.898418</td>\n",
              "      <td>0.532253</td>\n",
              "      <td>0.892648</td>\n",
              "      <td>0.921459</td>\n",
              "      <td>0.943694</td>\n",
              "    </tr>\n",
              "  </tbody>\n",
              "</table>\n",
              "</div>\n",
              "      <button class=\"colab-df-convert\" onclick=\"convertToInteractive('df-bd32ed12-9eb5-4187-a206-43e171515995')\"\n",
              "              title=\"Convert this dataframe to an interactive table.\"\n",
              "              style=\"display:none;\">\n",
              "        \n",
              "  <svg xmlns=\"http://www.w3.org/2000/svg\" height=\"24px\"viewBox=\"0 0 24 24\"\n",
              "       width=\"24px\">\n",
              "    <path d=\"M0 0h24v24H0V0z\" fill=\"none\"/>\n",
              "    <path d=\"M18.56 5.44l.94 2.06.94-2.06 2.06-.94-2.06-.94-.94-2.06-.94 2.06-2.06.94zm-11 1L8.5 8.5l.94-2.06 2.06-.94-2.06-.94L8.5 2.5l-.94 2.06-2.06.94zm10 10l.94 2.06.94-2.06 2.06-.94-2.06-.94-.94-2.06-.94 2.06-2.06.94z\"/><path d=\"M17.41 7.96l-1.37-1.37c-.4-.4-.92-.59-1.43-.59-.52 0-1.04.2-1.43.59L10.3 9.45l-7.72 7.72c-.78.78-.78 2.05 0 2.83L4 21.41c.39.39.9.59 1.41.59.51 0 1.02-.2 1.41-.59l7.78-7.78 2.81-2.81c.8-.78.8-2.07 0-2.86zM5.41 20L4 18.59l7.72-7.72 1.47 1.35L5.41 20z\"/>\n",
              "  </svg>\n",
              "      </button>\n",
              "      \n",
              "  <style>\n",
              "    .colab-df-container {\n",
              "      display:flex;\n",
              "      flex-wrap:wrap;\n",
              "      gap: 12px;\n",
              "    }\n",
              "\n",
              "    .colab-df-convert {\n",
              "      background-color: #E8F0FE;\n",
              "      border: none;\n",
              "      border-radius: 50%;\n",
              "      cursor: pointer;\n",
              "      display: none;\n",
              "      fill: #1967D2;\n",
              "      height: 32px;\n",
              "      padding: 0 0 0 0;\n",
              "      width: 32px;\n",
              "    }\n",
              "\n",
              "    .colab-df-convert:hover {\n",
              "      background-color: #E2EBFA;\n",
              "      box-shadow: 0px 1px 2px rgba(60, 64, 67, 0.3), 0px 1px 3px 1px rgba(60, 64, 67, 0.15);\n",
              "      fill: #174EA6;\n",
              "    }\n",
              "\n",
              "    [theme=dark] .colab-df-convert {\n",
              "      background-color: #3B4455;\n",
              "      fill: #D2E3FC;\n",
              "    }\n",
              "\n",
              "    [theme=dark] .colab-df-convert:hover {\n",
              "      background-color: #434B5C;\n",
              "      box-shadow: 0px 1px 3px 1px rgba(0, 0, 0, 0.15);\n",
              "      filter: drop-shadow(0px 1px 2px rgba(0, 0, 0, 0.3));\n",
              "      fill: #FFFFFF;\n",
              "    }\n",
              "  </style>\n",
              "\n",
              "      <script>\n",
              "        const buttonEl =\n",
              "          document.querySelector('#df-bd32ed12-9eb5-4187-a206-43e171515995 button.colab-df-convert');\n",
              "        buttonEl.style.display =\n",
              "          google.colab.kernel.accessAllowed ? 'block' : 'none';\n",
              "\n",
              "        async function convertToInteractive(key) {\n",
              "          const element = document.querySelector('#df-bd32ed12-9eb5-4187-a206-43e171515995');\n",
              "          const dataTable =\n",
              "            await google.colab.kernel.invokeFunction('convertToInteractive',\n",
              "                                                     [key], {});\n",
              "          if (!dataTable) return;\n",
              "\n",
              "          const docLinkHtml = 'Like what you see? Visit the ' +\n",
              "            '<a target=\"_blank\" href=https://colab.research.google.com/notebooks/data_table.ipynb>data table notebook</a>'\n",
              "            + ' to learn more about interactive tables.';\n",
              "          element.innerHTML = '';\n",
              "          dataTable['output_type'] = 'display_data';\n",
              "          await google.colab.output.renderOutput(dataTable, element);\n",
              "          const docLink = document.createElement('div');\n",
              "          docLink.innerHTML = docLinkHtml;\n",
              "          element.appendChild(docLink);\n",
              "        }\n",
              "      </script>\n",
              "    </div>\n",
              "  </div>\n",
              "  "
            ]
          },
          "metadata": {},
          "execution_count": 51
        }
      ]
    },
    {
      "cell_type": "markdown",
      "source": [
        "# Testing ke data yang belum pernah dilatih"
      ],
      "metadata": {
        "id": "vz7_sCLpsNQh"
      }
    },
    {
      "cell_type": "code",
      "source": [
        "#Politics##################################################################################################################################################################################################################################################################################################################################\n",
        "text_1 = \"\"\"\n",
        "With visa office closures and international travel restrictions still in place, experts say the economic benefits of President Donald Trump’s immigration suspension last week are uncertain, at best, while thousands of prospective immigrants still stand to suffer the consequences.\n",
        "\n",
        "Although the suspension was filled with broad exemptions and does not include current visa holders or those already in the U.S., the Migration Policy Institute estimates 26,000 would-be green card applicants would be blocked each month.\n",
        "\n",
        "Over the weekend, a coalition of advocacy groups filed an emergency request to halt Trump’s directive. It was the latest move in a 2019 case, stemming from when the White House sought to ban immigrants who couldn’t prove their ability to acquire.\n",
        "Attorneys with the American Immigration Lawyers Association requested a hold on the recent suspension order while the courts continue to decide the fate of the health insurance restrictions.\n",
        "\n",
        "The White House framed the immigration suspension as a vital component of helping the economy and American workers recover, but it could have the opposite effect.\n",
        "\n",
        "Immigrants already in the U.S. and those who already have certain visas can still obtain permanent residency. The suspension applies only to green card applicants from outside the country and primarily targets to those looking to settle down in the U.S. permanently through a family connection, according to MPI estimates.\n",
        "\n",
        "That leaves the possibility of employment-based visa slots opening up as a result of the suspension.\n",
        "\n",
        "\"President Trump claims he signed it in order to protect the economy in the wake of the coronavirus outbreak, but the reality is that our economic recovery will depend on immigrants,\" said Esther Sung, a senior attorney involved in the 2019 case.\n",
        "\n",
        "That view is shared, in part, by Rutgers economics professor Jennifer Hunt. She told ABC News that an influx of workers into critical sectors of the economy could boost per capita GDP.\n",
        "\n",
        "\"It would be kind of a shot in the arm,\" Hunt said.\n",
        "\n",
        "On-going travel restrictions and the closure of foreign visa offices still pose the greatest barrier to legal immigration in the age of coronavirus. Economists and labor experts, including Hunt, say those factors would override any attempt to assess the economic impacts of the restrictions.\n",
        "\n",
        "\"It’s very hard for me to see the direct correlation in terms of immediate and practical positive impact on displaced U.S. workers,\" said Caroline Tang, an Austin-based attorney who advises companies on work authorization for immigrants.\n",
        "\n",
        "Tang said the bar for employers to obtain work authorization for visa holders is already high enough, referring to specific requirements for prioritizing U.S. citizens.\n",
        "\n",
        "Researchers have identified some connection between more immigrants settled in the country and economic growth under normal circumstances, but the results are mixed.\n",
        "\n",
        "For example, a 2017 report by the economics firm Moody Analytics and ProPublica found that for every 1% increase in the U.S. population, the gross domestic product rises by 1.5%. While a 2018 study from Stanford University’s Hoover Institution confirms that \"positive relationship\" generally, but found variations and some negative impacts to U.S.-born employment rates in its state-by-state review.\n",
        "\n",
        "Researchers studying the large population of foreign-born workers in South Africa said it likely had a positive impact on per capita GDP.\n",
        "\n",
        "\"Foreign-born workers also generated additional employment for native-born workers,\" according to the 2018 Organisation for Economic Co-operation and Development report.\n",
        "\n",
        "\"\"\"\n",
        "\n",
        "# Politics##################################################################################################################################################################################################################################################################################################################################\n",
        "\n",
        "text_2 = \"\"\"Disputes have already broken out within the new political alliance that is working to end 36 years of rule by the Socialist Party (PSOE) in Spain’s southern region of Andalusia.\n",
        "\n",
        "Just hours after the far-right Vox agreed to support the Popular Party (PP)’s candidate to head the region, Juan Manuel Moreno, its demand for a specific regional department for family affairs is running into opposition from Ciudadanos (Citizens), the third party involved in the government change.\n",
        "\n",
        "These early clashes suggest it could be difficult to export the model to other parts of Spain\n",
        "\n",
        "The PP and the liberal Ciudadanos have reached their own governing agreement in the wake of an election that undermined the Socialists’ hold on power, but they need support from Vox’s 12 newly elected lawmakers to make it a reality.\n",
        "\n",
        "Ciudadanos has refused point-blank to meet with Vox representatives, but the PP has struck its own parallel deal with the far right to ensure its support at the investiture debate, which will take place on January 15 and 16.\n",
        "\n",
        "On Friday morning, Juan Marín of Ciudadanos said that there are no plans for a separate family affairs department within the government structure they have devised with their PP partners, and which does not include Vox.\n",
        "\n",
        "The reform party has insisted that the Vox-PP deal does not affect them at all, and Ciudadanos’ national leader, Albert Rivera, said on Thursday that Vox “has had to take a step back, correct itself, and sheathe its sword,” alluding to the fact that Vox has dropped some of its most radical demands such as the deportation of 52,000 undocumented migrants.\n",
        "\n",
        " Vox national leader Santiago Abascal (c) and Andalusian leader Francisco Serrano (r).\n",
        "Vox national leader Santiago Abascal (c) and Andalusian leader Francisco Serrano (r). REUTERS\n",
        "But Vox insists on a family department, and said it will expect loyalty from the PP on this issue. Meanwhile, Ciudadanos has also warned it will not support the PP-Vox proposal to change the historical memory law for a “concord law.”\n",
        "\n",
        "These early clashes suggest it could be difficult to export the model to other parts of Spain, where local and regional elections are scheduled to be held this year. The PP president, Pablo Casado, said on Thursday that their separate deals with Ciudadanos and Vox in Andalusia are “a preamble of what’s going to happen in May in Spain.”\n",
        "\n",
        "The PP is anxious to win back power in regions like Valencia, the Balearic Islands, Castilla-La Mancha, Aragón and Cantabria, and to retain it in Madrid, Murcia, La Rioja and Castilla y León.\n",
        "\n",
        "Parliamentary debate\n",
        "The PSOE has already digested the fact that it is losing its hold on Spain’s most populated region. “We will conduct a responsible opposition, and remain vigilant about defending self-government and Andalusia’s presence in Spain,” said the party’s parliamentary spokesman, Mario Jiménez.\n",
        "\n",
        "The Socialists will not be putting forward a candidate, now that the PP nominee has enough support for an absolute majority in the first round. The debates will take place on January 15 and 16, followed by a vote, said Speaker Marta Bosquet.\n",
        "\n",
        "The sum of the PP, Ciudadanos and Vox votes is four above the 55 required for a majority. The PSOE lost 14 seats at the December 2 election, down to 33. The Podemos-backed Adelante Andalucía has 17 lawmakers.\n",
        "\n",
        "\"\"\"\n",
        "# Health##################################################################################################################################################################################################################################################################################################################################\n",
        "\n",
        "text_3 = \"\"\"\n",
        "\n",
        "\n",
        "SUBSCRIBE\n",
        "\n",
        "\n",
        "GO\n",
        "\n",
        "HEALTH NEWS\n",
        "Fact Checked\n",
        "These Foods Can Increase Your Alzheimer’s Risk\n",
        "\n",
        "\n",
        "Share on Pinterest\n",
        "A sugar, highly processed foods and starchy foods may increase risk of developing Alzheimer’s disease. Getty Images\n",
        "A diet mixing sugary snacks, starchy foods, and processed meat may significantly increase risk of developing Alzheimer’s disease.\n",
        "The study looked at over 200 people with an average age of 78 living with dementia and compared them with a group of 418 in the same age range without the condition.\n",
        "It wasn’t the amount of “unhealthy” food that seemed to increase dementia risk, but instead the absence of other healthier foods.\n",
        "Researchers find it’s not just what you eat, but also how foods are combined that may increase your risk of Alzheimer’s and other forms of dementia.\n",
        "\n",
        "A new study suggests that mixing sugary snacks, starchy foods, and processed meat may significantly increase the risk of developing Alzheimer’s disease. The findings are published in Neurology, the medical journal of the American Academy of Neurology.\n",
        "\n",
        "“People who developed dementia were more likely to combine highly processed meats with starchy foods like potatoes, alcohol, and snacks like cookies and cakes,” study author Cecilia Samieri, PhD, of the University of Bordeaux in France, told Healthline. “In spite of not being consumed in higher quantity, processed meat appeared very central in their diet, that is, connected with many foods.”\n",
        "\n",
        "The study looked at over 200 people with an average age of 78 living with dementia and compared them with a group of 418 in the same age range without the condition.\n",
        "\n",
        "All participants received a medical checkup every 2 to 3 years and completed food questionnaires recording what foods they ate and how frequently for the previous 5 years.\n",
        "\n",
        "Diet in midlife may influence brain disease risk\n",
        "Researchers analyzed data from the food questionnaires to compare what foods were frequently eaten together by those with and without dementia.\n",
        "\n",
        "Samieri points out they could only draw conclusions from a narrow age range.\n",
        "\n",
        "“The main limitation is the use of a single dietary survey,” she said. “We know that diet over time, starting in midlife and probably even before, likely influences the risk of brain diseases later in life. Here, we had an evaluation of diet after age 65 only.”\n",
        "\n",
        "Also, it wasn’t the amount of “unhealthy” food that seemed to increase the risk of dementia, but instead, not eating other healthier foods, suggest the findings.\n",
        "\n",
        "Samieri pointed out that in this kind of study, the assumption was that “the diet people adopt at this age is a good representation of the diet followed over the years preceding the interview.”\n",
        "\n",
        "Another limitation was that diets were recorded only once, years before the onset of dementia, so changes in diet over time were unknown.\n",
        "\"\"\"\n",
        "\n",
        "# Entertainment##################################################################################################################################################################################################################################################################################################################################\n",
        "\n",
        "text_4 = \"\"\"\n",
        "Cádiz is in style: it has just been included in The New York Times’ list of 52 Places to Go in 2019. The recognition comes on the back of acknowledgment from TripAdvisor, which last year ranked Cádiz eighth on its list of European Destinations On The Rise for 2018.\n",
        "\n",
        "The journalist Andrew Ferren, who wrote about Cádiz for The New York Times’ list, lives in Spain himself and is no stranger to the southern province’s charms. “I am fascinated by its mix of atmospheres,” he says. “You leap from places as sophisticated and cultured as Jerez de la Frontera to wild landscapes that take your breath away, such as the beach in Bolonia or Alcornocales Park. It’s like the Wild West of southern of Spain.”\n",
        "\n",
        "“Despite the fact that Cádiz was historically a major maritime link between America and Europe, it’s not very well known to the US public and it’s really worth a visit,” he adds. There are three main reasons why The New York Times recommends a trip to Cádiz:\n",
        "\n",
        "Culinary delights\n",
        " Aponiente restaurant in El Puerto de Santa María.\n",
        "Aponiente restaurant in El Puerto de Santa María.\n",
        "Suggestions include the new Western-style gastrobar Saja River, recently opened on Santa Elena street, and Código de Barra in La Candelaria Square. Ferren also suggests crossing the bay from the capital to Puerto de Santa María, where Angel León has his three-starred Michelin restaurant offering “a lyrical poem of seafood.” Just 40 km from here, León has another restaurant within the Meliá Sancti Petri hotel called Alevante, which has just been awarded its first Michelin star. For something more casual, there is La Taberna del Chef del Mar, another of the chef’s brands in El Puerto.\n",
        "\n",
        "To these suggestions, EL VIAJERO adds several of its own, including Restaurante Café Royalty, which opened opened in 1912, and the bookshop café La Clandestina (José del Toro, 23), which serves scrumptious breakfasts. There is also La Candela (Feduchy, 13) for tapas, while an exquisite combo of Andalusian and Norwegian fare is served at Patría restaurant, located on the hillside of Muela in Vejer de la Frontera.\n",
        "\n",
        "Jerez de la Frontera and its wineries\n",
        " Bodegas Lustau, en Jerez de la Frontera (Cádiz).ampliar foto\n",
        "Bodegas Lustau, en Jerez de la Frontera (Cádiz). NEIL FARRIN GETTY IMAGES\n",
        "Around 36 km to the north of Cádiz lies Jerez de la Frontera, known for the fortified wines known in English as sherry. Wineries from the region known as Marco de Jerez (comprising Jerez proper, El Puerto and Sanlúcar) preserve their unique 18th and 19th-century atmosphere. Ferren recommends Díez-Mérito, Lustau and Bodegas Tradición. Foodies are told to seek out Lú in Jerez, owned by the chef JuanLu Fernández\n",
        "\n",
        "The NMAC Montenmedio Foundation\n",
        " Vejer de la Frontera.ampliar foto\n",
        "Vejer de la Frontera. GETTY IMAGES\n",
        "The NMAC Montenmedio Foundation of contemporary art sits between Barbate and Vejer de la Frontera. It is a private gallery exhibiting works by artists who are asked to come up with projects inspired by the local history and landscape. The center has work by Olafur Eliasson, James Turrell, Marina Abramovic, Pascale Marthine Tayou, Maurizio Cattelan and Santiago Sierra.\n",
        "\n",
        "EL VIAJERO expands on Ferren’s recommendations with a few of its own:\n",
        "\n",
        "1.The Cádiz Carnival\n",
        " The Cádiz carnival.ampliar foto\n",
        "The Cádiz carnival.\n",
        "An unique and fun festival that takes place from February 28 to March 10. In fact it is so unique that it is applying to be included on the World Intangible Cultural Heritage list.\n",
        "\n",
        "2. Barrio del Pópulo\n",
        " The Pópulo neighborhood.ampliar foto\n",
        "The Pópulo neighborhood. RAQUEL M. CARBONELL GETTY\n",
        "This is the oldest neighborhood in Cádiz and features an old Roman theater, the old cathedral and stone arches that lead to bohemian bars such as Pay Pay (Silencio, 1), a former brothel that now has live music, dance, improv and stand-up comedy.\n",
        "\n",
        "3. Cádiz à la Havana\n",
        " Cathedral square in Cádiz.ampliar foto\n",
        "Cathedral square in Cádiz. RAQUEL M. CARBONELL GETTY\n",
        "Stroll from the colonial-style Mina Square, with its ficus and palm trees, to the Provincial Museum containing Phoenician sarcophagi, to Campo del Sur avenue which was converted into a Havana esplanade for the 2002 James Bond movie Die Another Day.\n",
        "\n",
        "4. A wealth of history\n",
        " Baelo Claudia Roman site in Tarifa (Cádiz).ampliar foto\n",
        "Baelo Claudia Roman site in Tarifa (Cádiz). KEN WELSH GETTY\n",
        "Standing on the frontier between two continents, the province of Cádiz has a long and action-packed history, while its capital is one of the oldest cities in Europe. Remnants of yesteryear can be seen at a number of archeological sites, including Baelo Claudia, Carteia and Doña Blanca.\n",
        "\n",
        "5. Sanlúcar de Barrameda\n",
        " Summer beach horse races in Sanlúcar de Barrameda.ampliar foto\n",
        "Summer beach horse races in Sanlúcar de Barrameda. JUAN CARLOS TORO\n",
        "Famous for its summer horse racing on the beach as well as for its wineries, this coastal town has been described by journalist Mariló García as a “dazzling city in Cádiz that boasts history, exquisite seafood, a city center with a mix of palaces and wineries as well as the incomparable landscape of Doñana Natural Park.”\n",
        "\n",
        "6. Coast and mountains\n",
        " Olvera, a white village in Cádiz.ampliar foto\n",
        "Olvera, a white village in Cádiz. RUDI SEBASTIAN GETTY\n",
        "Cádiz has miles of windswept beaches that make it a perfect haunt for surfers of various descriptions. In less than an hour, however, you can be in the hills visiting quintessentially Andalusian white villages such as Medina Sidonia, Grazalema and Ubrique.\n",
        "\n",
        "7. The flamenco route\n",
        "Located in San Fernando, the Peña Flamenca Camarón de la Isla, named after the famous singer, has shows every week and is a good place to tune into some authentic flamenco artistry.\n",
        "\n",
        "8. Conil de la Frontera\n",
        " The beach in Conil de la Frontera.ampliar foto\n",
        "The beach in Conil de la Frontera. GETTY IMAGES\n",
        "There are three national parks that stretch along Cádiz’s Atlantic coast – La Breña, Los Alcornocales and el Estrecho – as well as beaches such as Conil de la Frontera which has the best beach bars around for watching the sun go down.\n",
        "\n",
        "9. Surfing in Tarifa\n",
        "In the inlets of Los Lances and Valdevaqueros in Tarifa, wind and kitesurfers can skid across the water with a view of Africa in front and El Estrecho national park behind them.\n",
        "\n",
        "10. The white villages\n",
        "Nineteen districts in the Cádiz mountains take you through a string of white villages – Alcalá del Valle, Algar, Algodonales, Arcos de la Frontera, Benaocaz, Bornos, El Bosque, Espera, El Gastor, Grazalema, Olvera, Prado del Rey, Puerto Serrano, Setenil de las Bodegas, Torre Alhaquine, Ubrique, Villaluenga del Rosario, Villamartín and Zahara de la Sierra. The villagers still whitewash their homes with lime as they did in the past, normally once a year before the local fiestas.\n",
        "\n",
        "\"\"\"\n",
        "# Business##################################################################################################################################################################################################################################################################################################################################\n",
        "\n",
        "text_5 = \"\"\"\n",
        "Private banks may sell shares to raise a cumulative Rs 35,000 crore to build a buffer against the economic shocks due to the coronavirus pandemic.\n",
        "Bank of Baroda, RBL Bank, IndusInd Bank, Yes Bank, Kotak Mahindra Bank and IDFC First Bank are looking to build a “capital base” against the economic effects of COVID-19. RBL and IDFC First plan to raise between Rs 1,800-2,000 crore each, sources told Mint.\n",
        "IDFC First Bank will reportedly use the capital for “strengthening the bank’s capital buffers further and for growth”.\n",
        "Moneycontrol could not independently verify the report.\n",
        "RELATED NEWS\n",
        "Tobacco smoking potential risk factor for COVID-19: Study\n",
        "Most Americans cannot or will not use COVID-19 contact tracing apps: Poll\n",
        "India's January-March gold demand falls 36% due to volatile prices, economic uncertainties: WGC\n",
        "RBL Bank is also said to be looking to add growth capital and strengthen its capital position.\n",
        "Follow our LIVE Updates on the coronavirus pandemic here\n",
        "“The capital raising may happen when the share price goes up. The money can be used for consolidation such as acquisitions or mergers, apart from improving the bank’s tier 1 capital further,\" sources told the paper.\n",
        "Over the past weeks, these banks have made plans to issue fresh shares to enhance common equity tier 1 (CET 1) capital, it added. CET 1 is used to measure a bank’s capability to bear loan losses and write-offs, and also measure cash reserve for acquisitions or infusions.\n",
        "The lockdown to combat the spread of the virus has made it difficult for borrowers to repay loans and could increase slippages and loan write-offs in the September quarter. The second phase of the country-wide lockdown is scheduled to be lifted in phases from May 3.\n",
        "\n",
        "\"\"\"\n",
        "# Tech##################################################################################################################################################################################################################################################################################################################################\n",
        "\n",
        "text_6 = \"\"\"\n",
        "Elon Musk told the world in late 2017 that Tesla was taking its automotive know-how and applying it to a totally new challenge: self-driving big rigs. But one year later, he placed the Tesla Semi fourth on a list of priorities for the company, behind the upcoming Model Y compact SUV and an electric pickup truck. This week, Daimler executed a move many years in the making by announcing its own big rig (albeit diesel-powered) outfitted with semi-autonomous technology. And others are following suit.\n",
        "\n",
        "The German automaker also committed to manufacturing the truck this summer, with deliveries scheduled for later this year. It pledged 500 million euros over the next few years to the continued development of an autonomous big rig, and said it has hired hundreds of employees to move the tech forward. And just like it did when it unveiled the prototype version in 2015, Daimler gave us a ride in the truck to get a taste of what the near future of trucking will look like.\n",
        "\n",
        " \n",
        "While there are a few Tesla Semi prototypes on the road now, and a dozen or so big name companies have placed preorders for the trucks, it doesn’t look like a production version is coming any time soon. Tesla still hasn’t said where or exactly when it will build the trucks, and would likely need to raise more money (or sell a hell of a lot more Model 3s) to fund the project.\n",
        "\n",
        "DAIMLER FIRST SHOWED OFF A PROTOTYPE IN 2015\n",
        "This has left the door wide open for companies like Daimler, the parent company of Mercedes-Benz. Daimler announced it was working on its own self-driving big rig in 2015 when it showed off a working prototype called the Freightliner Inspiration Truck. The automaker went big, debuting the truck on the Hoover Dam and offering test rides at Las Vegas Motor Speedway. This week at the Consumer Electronics Show, Daimler returned to Las Vegas to make good on its promise with a production version of that prototype truck.\n",
        "\n",
        "The new Cascadia is not much more advanced than the prototype was in 2015. In fact, the technology is still pretty limited. Daimler says it’s the first Class 8 commercial truck with Level 2 autonomy (referring to the Society of Automotive Engineers’ scale for self-driving definitions), meaning the driver is in control, but is supported heavily by the truck’s technology in certain situations. In that sense, the new Cascadia essentially has the same basic driver assistance technology many modern cars offer, including automatic lane centering, adaptive cruise control, and emergency braking.\n",
        "\n",
        " \n",
        "The Freightliner Inspiration Truck at the event in 2015.\n",
        "But the new Cascadia is doing this with a limited set of sensors. There’s a forward-facing camera, a forward-facing radar, a second radar sensor on the right side of the truck. That package pales in comparison to the dozens of cameras, ultrasonic sensors, and radars you’d find powering Autopilot, let alone the Tesla Semi, which is supposed to have a beefed-up version of this same sensor suite.\n",
        "\n",
        "This helps keep costs down, but means the technology is more in line with what you’d find powering something like Nissan’s ProPilot driver assistance feature as opposed to Autopilot, or even Audi’s supposedly Level 3 system, which uses similar tech, but relies on LIDAR as well.\n",
        "\n",
        "DAIMLER’S TRUCK HAS MORE IN COMMON WITH NISSAN’S PROPILOT SYSTEM THAN TESLA’S AUTOPILOT\n",
        "Keeping with a theme of less is more, there’s also no camera-based monitoring system in the truck to make sure the driver pays attention while using the Level 2 features. Instead, the Cascadia uses a system similar to the one found in Tesla’s cars.\n",
        "\n",
        "A sensor in the steering column measures resistance applied to the steering wheel. If the driver takes their hands off the wheel while using the lane centering feature, the instrument cluster will, after about 15 seconds, surface a warning that tells them to place their hands back on the wheel. If the driver doesn’t do that, the warning changes from yellow to red. After another 60 seconds, if the driver still hasn’t put their hands back on the wheel, the truck will come to a stop on the side of the road.\n",
        "\n",
        "  \n",
        " \n",
        "The new Cascadia is a far cry from a fully autonomous truck, but based on my brief ride, Daimler has refined the technology compared to the prototype version. The prototype swayed on the highway during my two-mile demo ride in 2015, ping-ponging between the lane markers. The new truck, meanwhile, felt locked to the center of the lane during this week’s ride, which followed the same exact route from a few years ago.\n",
        "\n",
        "A Daimler representative also told me that, while lane centering is on, the driver can even choose where the system places them in the lane. (For example, if a driver is on a tight one-lane highway and wants to avoid clipping oncoming traffic, they could tell the truck to hug the right lane line.) This is another sign that system is maturing from what debuted in 2015, though it’s a small one.\n",
        "\n",
        "RELATED\n",
        "\n",
        "This is what it’s like to ride in Daimler’s self-driving semi truck\n",
        "Daimler promised some other modern technologies are coming the new Cascadia, though none of it was on display in the preproduction trucks being used for the demonstration. The company plans to offer an optional 10-inch touchscreen in the dashboard, and a 12-inch digital cluster behind the steering wheel. The truck will be able to receive over-the-air software updates, too.\n",
        "\n",
        "The Cascadia won’t be as stuffed with tech as the Tesla Semi, nor is it as sleek. But it will be available later this year. Daimler has argued that bringing automation to trucking will help squeeze better fuel efficiency out of the millions of miles that its big rigs cover every year. It would decrease the toll those miles take on the drivers. Most importantly, it could help reduce the some 4,000 fatalities that result from crashes involving these massive hunks of machinery. If all goes well, we might have a sense by the end of this year of whether any of that is true.\n",
        "\"\"\"\n",
        "\n",
        "# Sports##################################################################################################################################################################################################################################################################################################################################\n",
        "\n",
        "text_7 = \"\"\"\n",
        "Spain has agreed to host the soccer final of the Copa Libertadores between Argentina teams River Plate and Boca Juniors. The match will take place on December 9 at the Santiago Bernabéu stadium in Madrid.\n",
        "\n",
        "The final in Madrid is a punch in the soul to all fans of soccer in Argentina\n",
        "\n",
        "ONLINE SPORTS DAILY OLE\n",
        "\n",
        "The final was set to take place in Argentina but was suspended twice after fans turned violent. The first time, on November 25, riot police were called in after supporters of River began throwing stones and bottles at the bus carrying Boca players. Pepper spray used to control the crowds ended up affecting members of the soccer team. The players later shared photos of their injuries. The match was rescheduled but again had to be suspended after fans descended into violence.\n",
        "\n",
        "In view of the insecurity, the South American Football Confederation (Conmebol), which organizes the competition, decided the only solution was to hold the game in a different country. On Thursday, Spanish Prime Minister Pedro Sánchez said Spain would be “willing to organize the Copa Libertadores final between River and Boca” in a message on Twitter, and an hour later Conmebol president Alejandro Domínguez confirmed the game would take place in Madrid.\n",
        "\n",
        " Embedded video\n",
        "\n",
        "Sebastián Lisiecki\n",
        "@sebalisiecki\n",
        " Así fue la llegada de Boca al Monumental. Pésimo la seguridad q los mete entre toda la gente de River, los jugadores no tienen q hacer gestos, tienen q.jugar adentro. La Policía no controló y después tiró gas pimienta. Insólito todo. Quinto mundo\n",
        "\n",
        "575\n",
        "7:23 PM - Nov 24, 2018\n",
        "637 people are talking about this\n",
        "Twitter Ads info and privacy\n",
        "This was how Boca arrived at Monumental stadium. The security that got between the all people of River was terrible. Players shouldn't have to make gesture, they should play. The police did not control the situation and then pepper gas was thrown. Unbelievable. Fifth world.\n",
        "\n",
        "This is the first time a Copa Libertadores game has been played outside the Americas since the competition began in 1960. Domínguez however was positive about the decision: “[Madrid] has the largest Argentine community overseas, Barajas is the airport with the best connection to Latin America, and it is a city with a great soccer culture.”\n",
        "\n",
        "But the feeling in Argentina has been less optimistic. The national newspaper La Nación wrote that “it represents, in some way, the structural failure of our soccer, which is unable to organize the best final in the history of the [Copa] Libertadores.” Online sports daily Ole agreed: “The final in Madrid is a punch in the soul to all fans of soccer in Argentina. Ten thousands kilometers away, River-Boca is an unhappy attempt to transform the classic into a Champions League event.” According to a survey run by Ole, 76% of respondents think it is bad that the game has been moved to Spain.\n",
        "\n",
        "Security risk\n",
        "In a message on Twitter, Sánchez promised that \"security forces have extensive experience of these situations and are already working on the necessary deployments to ensure the event is secure.\" Despite these assurances, there are concerns there is not enough time to properly secure the event. According to sources familiar with the security operations, between four and six weeks are needed to analyze the security needs of high-risk sporting stadiums and the ensuing preparations can take up to eight months. In the case of the Copa Libertadores final, security officials will have just days to prepare.\n",
        "\n",
        "River and Boca have a long-standing rivalry fueled largely by the class divide between the teams – River attracts wealthy, upper-class supporters while Boca is known for its working-class fans.\n",
        "\n",
        "Scheduling issues\n",
        "The final will take place on Sunday, December 9, on the final day of a three-day national holiday in Spain for Constitution Day on December 6. Madrid receives its highest number of visitors in these dates. In 2017, 600,000 visitors came to the capital, and the hotel occupancy rate was over 80%.\n",
        "\n",
        " Conmebol president Alejandro Domínguez on Tuesday.\n",
        "Conmebol president Alejandro Domínguez on Tuesday.\n",
        "Many details about the game have yet to be revealed, including how tickets will be sold, what system will be used and who can buy tickets. In Argentina, fans of the visiting team are banned from the stadiums.\n",
        "\n",
        "Conmebol and soccer club representatives began considering destinations for the match on Tuesday including Doha, the capital of Qatar and the host of the 2022 FIFA World Cup, which offered attractive economic incentives and Miami, which was ruled out by the US Soccer Federation.\n",
        "\n",
        "\n",
        "\n",
        "\"\"\"\n",
        "# Weather##################################################################################################################################################################################################################################################################################################################################\n",
        "\n",
        "text_8 = \"\"\"\n",
        "A polar air mass that entered the Iberian peninsula on Wednesday has already caused sharp drops in temperature, but the worst is yet to come, said the national weather service Aemet.\n",
        "\n",
        "“An episode of intense cold” is forecast for Friday, when the mercury will continue to plummet across much of Spain. Thirty provinces are on yellow alert, the lowest on a three-color scale, except for Guadalajara, where there is an orange advisory in place. Lows of -10 ºC are expected in Parameras de Molina.\n",
        "\n",
        "Elsewhere, weather stations have recorded -8.2ºC in La Molina (Girona), at an elevation of 1,700 meters, and -6.8ºC in Puerto de Navacerrada (Madrid).\n",
        "\n",
        " Almería has rolled out vehicles to deal with wintry road conditions.\n",
        "Almería has rolled out vehicles to deal with wintry road conditions. DIPUTACIÓN DE ALMERÍA EUROPA PRESS\n",
        "Aemet spokesman Rubén del Campo said that the cold spell is not out of the ordinary for a month of January, and noted that “we are emerging from a warm December when temperatures were 1.2ºC above average.”\n",
        "\n",
        "Temperatures have already dipped between six and eight degrees in a matter of hours in some parts of Spain, said Del Campo. And the northerly wind will increase the feeling of cold.\n",
        "\n",
        "Temperatures on Friday and Saturday will be “very cold, with lows of five to 10 degrees below average in many parts of northern and eastern Spain, and in the Balearics,” he added.\n",
        "\n",
        "No snow\n",
        "However, little to no snow is expected “not for lack of cold, but for lack of precipitation, since the air mass is very dry.”\n",
        "\n",
        "Alerts are in place in Almería, Granada, Jaén, Aragón, Cantabria, Castilla-La Mancha, Castilla y León except for Salamanca and Valladolid, Catalonia save for Tarragona, Madrid, Navarre, the Valencia region, the Balearic Islands, La Rioja, Asturias and Murcia.\n",
        "\n",
        "On Saturday, the orange warnings will extend to Córdoba, Salamanca, Valladolid, Galicia and Lleida, where lows of -10 ºC are expected in the Vall d’Aran.\n",
        "\n",
        "\n",
        "\"\"\"\n",
        "# Health##################################################################################################################################################################################################################################################################################################################################\n",
        "\n",
        "text_9 = \"\"\"\n",
        "The obesity epidemic has been on the rise for years, with cases nearly tripling since 1975, according to the World Health Organization (WHO). And the outlook for the future is equally bleak – and that includes Spain, a country that is famed for the positive effects of its supposedly Mediterranean diet.\n",
        "\n",
        "An investigation by the Mar de Barcelona hospital has found that 80% of men and 55% of women will be overweight by 2030. If the current trend continues, the researchers write, within 11 years more than 27 million people in Spain will be overweight.\n",
        "\n",
        "Being overweight can mean a higher risk of suffering a number of diseases, including diabetes, hypertension, stroke and cancer\n",
        "\n",
        "The study, published in the Spanish Cardiology Magazine, points out that this epidemic will mean costs of €3 billion for the country’s health system.\n",
        "\n",
        "The issue, the experts state, is not an esthetic one, but rather a question of health. Being overweight can mean a higher risk of suffering a number of diseases, including diabetes, hypertension, stroke, cancer and other cardiovascular conditions.\n",
        "\n",
        "Researchers at the Barcelona hospital revised all of the scientific literature published in Spain on epidemiology and the prevalence of obesity and excess weight between 1987 and 2014 in order to come up with an accurate picture of the state of the country’s residents. “We found the trends and we cross-referenced them with data covering the general population from the National Statistics Institute in order to estimate the figures of obesity and excess weight,” explains Álvaro Hernáez, the chief researcher on the project. The results revealed an “alarming future.”\n",
        "\n",
        "There are currently 25 million people with excess weight, three million more than a decade ago\n",
        "\n",
        "DR ALBERT GODAY, AUTHOR OF THE STUDY\n",
        "\n",
        "“There are currently 25 million people with excess weight, three million more than a decade ago,” explains Dr Albert Goday, another author of the study. “In a conservative scenario, if this trend continues, there will be another three million more – 16% more cases – by 2030.”\n",
        "\n",
        "“In men, excess weight is more usual up to the age of 50,” explains Goday. “From 50 onward, obesity rises among women. These are issues that are intrinsically linked to hormonal metabolism. From a certain age, it is harder for women to control their weight.”\n",
        "\n",
        "The experts argue that any weight loss, no matter how small, reduces the risk of contracting one of the associated illnesses. “We aren’t going to find the key to this or a vaccination overnight,” Goday adds. “But any minor intervention will help to reduce the risk. You might think that you have made a huge effort and have only lost four kilos when you need to lose many more, but you must bear in mind that those four kilos are already reducing the risk.”\n",
        "\n",
        "\"\"\"\n",
        "# Animal abuse##################################################################################################################################################################################################################################################################################################################################\n",
        "\n",
        "text_10 = \"\"\"\n",
        "Spain’s animal rights party PACMA posted a 38-second video on Twitter on Friday showing a man freeing a fox from a cage, before hunters immediately start shooting at it.\n",
        "\n",
        "“Hunters shut what appears to be a fox in a cage and let it out only to pepper it with bullets,” says the accompanying text. “Another ‘isolated case’ as the hunting lobby refers to it. Every week, a trickle of ‘isolated cases.’ In fact, they are dangerous psychopaths with a rifle and a license to carry arms.”\n",
        "\n",
        " Video insertado\n",
        "\n",
        "PACMA\n",
        "✔\n",
        "@PartidoPACMA\n",
        " Cazadores enjaulan a lo que parece ser un zorro y lo liberan solo para acribillarlo a tiros. Otro \"caso aislado\", de los que habla el lobby de la caza. Cada semana varios \"casos aislados\".\n",
        "\n",
        "En realidad, son peligrosos psicópatas con escopeta y permiso de amas. #YoNoDisparo\n",
        "\n",
        "4.188\n",
        "10:43 - 4 ene. 2019\n",
        "7.443 personas están hablando de esto\n",
        "Información y privacidad de Twitter Ads\n",
        "At the start of the video, a man teases the caged animal with a stick. When the cage door is opened, the animal makes a run for it, but is shot at by men armed with rifles who are waiting by the cage.\n",
        "\n",
        "The release of the video, which has had 255,000 views, coincided with the launch of PACMA’s campaign against the start of fox-hunting season in Galicia. “Fox-hunting season in Galicia has started: hunts that hide behind environmental excuses, championships in which the only reason to compete is to kill. The hunters will be entitled to pursue and kill thousands of foxes in the countryside,” states PACMA.\n",
        "\n",
        "As it notes on its website, PACMA is the only political group that opposes hunting, and it is currently demanding a nationwide ban. “No animal should die under fire,” say the group. “We will fight tirelessly until hunting becomes a crime.”\n",
        "\n",
        "No animal should die under fire. We will fight tirelessly until hunting becomes a crime\n",
        "\n",
        "PACMA\n",
        "\n",
        "The animal rights group is preparing a report to send to the regional government of Galicia against fox hunts. “We are working hard to make it the first Spanish region to assign resources to protecting foxes instead of killing them,” says a source at PACMA.\n",
        "\n",
        "Last month, a Spanish hunter who was filmed while he chased and tortured a fox was identified by the Civil Guard in the Spanish province of Huesca. The man, aged 35, is facing charges of crimes against wildlife.\n",
        "\n",
        "And in November, animal rights groups and political parties reacted with indignation over a viral video shot in Cáceres province of 12 hunting dogs falling off a cliff edge, followed by the deer they were attacking.\n",
        "\n",
        "\"\"\""
      ],
      "metadata": {
        "id": "MvBMzbAMsRcs"
      },
      "execution_count": 52,
      "outputs": []
    },
    {
      "cell_type": "code",
      "source": [
        "def predict_from_text(model, text):\n",
        "\n",
        "    text = filter_text(text, stop)\n",
        "    test_vec = tfidf.transform([text])\n",
        "    cat = ['Crime','Politics','Science']\n",
        "    code = [0,1,2]\n",
        "    dic = dict([(code[x], cat[x])for x in range(3)])\n",
        "\n",
        "    prediction = dic[model.predict(test_vec)[0]]\n",
        "    \n",
        "    return prediction"
      ],
      "metadata": {
        "id": "Wu-hzyPFsWSm"
      },
      "execution_count": 53,
      "outputs": []
    },
    {
      "cell_type": "code",
      "source": [
        "texts = [text_1, text_2, text_3, text_4, text_5, text_6, text_7, text_8, text_9, text_10]\n",
        "\n",
        "predictions = pd.Series(texts).apply(lambda x : predict_from_text(model_stack, x))\n",
        "\n",
        "predictions"
      ],
      "metadata": {
        "colab": {
          "base_uri": "https://localhost:8080/"
        },
        "id": "xZfHOs2hsYxm",
        "outputId": "859aba8f-ec8d-44e5-bcbf-0b360094897c"
      },
      "execution_count": 54,
      "outputs": [
        {
          "output_type": "execute_result",
          "data": {
            "text/plain": [
              "0    Politics\n",
              "1    Politics\n",
              "2     Science\n",
              "3    Politics\n",
              "4     Science\n",
              "5     Science\n",
              "6    Politics\n",
              "7     Science\n",
              "8     Science\n",
              "9    Politics\n",
              "dtype: object"
            ]
          },
          "metadata": {},
          "execution_count": 54
        }
      ]
    }
  ]
}